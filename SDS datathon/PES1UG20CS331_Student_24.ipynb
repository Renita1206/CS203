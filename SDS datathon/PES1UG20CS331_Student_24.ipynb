{
 "cells": [
  {
   "cell_type": "markdown",
   "id": "b428be32",
   "metadata": {},
   "source": [
    "## Import Libraries and Read Data"
   ]
  },
  {
   "cell_type": "code",
   "execution_count": 262,
   "id": "d88b12fb",
   "metadata": {},
   "outputs": [],
   "source": [
    "import pandas as pd\n",
    "import numpy as np\n",
    "import matplotlib.pyplot as plt\n",
    "import seaborn as sns"
   ]
  },
  {
   "cell_type": "code",
   "execution_count": 263,
   "id": "6d548d1f",
   "metadata": {},
   "outputs": [
    {
     "data": {
      "text/html": [
       "<div>\n",
       "<style scoped>\n",
       "    .dataframe tbody tr th:only-of-type {\n",
       "        vertical-align: middle;\n",
       "    }\n",
       "\n",
       "    .dataframe tbody tr th {\n",
       "        vertical-align: top;\n",
       "    }\n",
       "\n",
       "    .dataframe thead th {\n",
       "        text-align: right;\n",
       "    }\n",
       "</style>\n",
       "<table border=\"1\" class=\"dataframe\">\n",
       "  <thead>\n",
       "    <tr style=\"text-align: right;\">\n",
       "      <th></th>\n",
       "      <th>gender</th>\n",
       "      <th>race</th>\n",
       "      <th>parental level of education</th>\n",
       "      <th>lunch</th>\n",
       "      <th>test preparation course</th>\n",
       "      <th>math score</th>\n",
       "      <th>reading score</th>\n",
       "      <th>writing score</th>\n",
       "    </tr>\n",
       "  </thead>\n",
       "  <tbody>\n",
       "    <tr>\n",
       "      <th>0</th>\n",
       "      <td>female</td>\n",
       "      <td>group B</td>\n",
       "      <td>bachelor's degree</td>\n",
       "      <td>standard</td>\n",
       "      <td>none</td>\n",
       "      <td>114.0</td>\n",
       "      <td>128.0</td>\n",
       "      <td>118.0</td>\n",
       "    </tr>\n",
       "    <tr>\n",
       "      <th>1</th>\n",
       "      <td>male</td>\n",
       "      <td>group E</td>\n",
       "      <td>associate's degree</td>\n",
       "      <td>free/reduced</td>\n",
       "      <td>completed</td>\n",
       "      <td>111.0</td>\n",
       "      <td>146.0</td>\n",
       "      <td>132.0</td>\n",
       "    </tr>\n",
       "    <tr>\n",
       "      <th>2</th>\n",
       "      <td>male</td>\n",
       "      <td>group B</td>\n",
       "      <td>high school</td>\n",
       "      <td>free/reduced</td>\n",
       "      <td>completed</td>\n",
       "      <td>132.0</td>\n",
       "      <td>145.0</td>\n",
       "      <td>137.0</td>\n",
       "    </tr>\n",
       "    <tr>\n",
       "      <th>3</th>\n",
       "      <td>male</td>\n",
       "      <td>group B</td>\n",
       "      <td>some college</td>\n",
       "      <td>standard</td>\n",
       "      <td>completed</td>\n",
       "      <td>89.0</td>\n",
       "      <td>113.0</td>\n",
       "      <td>88.0</td>\n",
       "    </tr>\n",
       "    <tr>\n",
       "      <th>4</th>\n",
       "      <td>male</td>\n",
       "      <td>group A</td>\n",
       "      <td>associate's degree</td>\n",
       "      <td>standard</td>\n",
       "      <td>completed</td>\n",
       "      <td>118.0</td>\n",
       "      <td>134.0</td>\n",
       "      <td>119.0</td>\n",
       "    </tr>\n",
       "    <tr>\n",
       "      <th>...</th>\n",
       "      <td>...</td>\n",
       "      <td>...</td>\n",
       "      <td>...</td>\n",
       "      <td>...</td>\n",
       "      <td>...</td>\n",
       "      <td>...</td>\n",
       "      <td>...</td>\n",
       "      <td>...</td>\n",
       "    </tr>\n",
       "    <tr>\n",
       "      <th>995</th>\n",
       "      <td>male</td>\n",
       "      <td>group A</td>\n",
       "      <td>some high school</td>\n",
       "      <td>standard</td>\n",
       "      <td>none</td>\n",
       "      <td>130.0</td>\n",
       "      <td>149.0</td>\n",
       "      <td>139.0</td>\n",
       "    </tr>\n",
       "    <tr>\n",
       "      <th>996</th>\n",
       "      <td>male</td>\n",
       "      <td>group C</td>\n",
       "      <td>associate's degree</td>\n",
       "      <td>standard</td>\n",
       "      <td>completed</td>\n",
       "      <td>104.0</td>\n",
       "      <td>111.0</td>\n",
       "      <td>99.0</td>\n",
       "    </tr>\n",
       "    <tr>\n",
       "      <th>997</th>\n",
       "      <td>male</td>\n",
       "      <td>group C</td>\n",
       "      <td>bachelor's degree</td>\n",
       "      <td>free/reduced</td>\n",
       "      <td>completed</td>\n",
       "      <td>101.0</td>\n",
       "      <td>125.0</td>\n",
       "      <td>109.0</td>\n",
       "    </tr>\n",
       "    <tr>\n",
       "      <th>998</th>\n",
       "      <td>male</td>\n",
       "      <td>group C</td>\n",
       "      <td>bachelor's degree</td>\n",
       "      <td>free/reduced</td>\n",
       "      <td>completed</td>\n",
       "      <td>110.0</td>\n",
       "      <td>134.0</td>\n",
       "      <td>121.0</td>\n",
       "    </tr>\n",
       "    <tr>\n",
       "      <th>999</th>\n",
       "      <td>male</td>\n",
       "      <td>group C</td>\n",
       "      <td>some college</td>\n",
       "      <td>free/reduced</td>\n",
       "      <td>completed</td>\n",
       "      <td>119.0</td>\n",
       "      <td>142.0</td>\n",
       "      <td>130.0</td>\n",
       "    </tr>\n",
       "  </tbody>\n",
       "</table>\n",
       "<p>1000 rows × 8 columns</p>\n",
       "</div>"
      ],
      "text/plain": [
       "     gender     race parental level of education         lunch  \\\n",
       "0    female  group B           bachelor's degree      standard   \n",
       "1      male  group E          associate's degree  free/reduced   \n",
       "2      male  group B                 high school  free/reduced   \n",
       "3      male  group B                some college      standard   \n",
       "4      male  group A          associate's degree      standard   \n",
       "..      ...      ...                         ...           ...   \n",
       "995    male  group A            some high school      standard   \n",
       "996    male  group C          associate's degree      standard   \n",
       "997    male  group C           bachelor's degree  free/reduced   \n",
       "998    male  group C           bachelor's degree  free/reduced   \n",
       "999    male  group C                some college  free/reduced   \n",
       "\n",
       "    test preparation course  math score  reading score  writing score  \n",
       "0                      none       114.0          128.0          118.0  \n",
       "1                 completed       111.0          146.0          132.0  \n",
       "2                 completed       132.0          145.0          137.0  \n",
       "3                 completed        89.0          113.0           88.0  \n",
       "4                 completed       118.0          134.0          119.0  \n",
       "..                      ...         ...            ...            ...  \n",
       "995                    none       130.0          149.0          139.0  \n",
       "996               completed       104.0          111.0           99.0  \n",
       "997               completed       101.0          125.0          109.0  \n",
       "998               completed       110.0          134.0          121.0  \n",
       "999               completed       119.0          142.0          130.0  \n",
       "\n",
       "[1000 rows x 8 columns]"
      ]
     },
     "execution_count": 263,
     "metadata": {},
     "output_type": "execute_result"
    }
   ],
   "source": [
    "df = pd.read_csv(\"Datathon_SDS.csv\")\n",
    "df"
   ]
  },
  {
   "cell_type": "code",
   "execution_count": 264,
   "id": "baa91c12",
   "metadata": {},
   "outputs": [
    {
     "data": {
      "text/html": [
       "<div>\n",
       "<style scoped>\n",
       "    .dataframe tbody tr th:only-of-type {\n",
       "        vertical-align: middle;\n",
       "    }\n",
       "\n",
       "    .dataframe tbody tr th {\n",
       "        vertical-align: top;\n",
       "    }\n",
       "\n",
       "    .dataframe thead th {\n",
       "        text-align: right;\n",
       "    }\n",
       "</style>\n",
       "<table border=\"1\" class=\"dataframe\">\n",
       "  <thead>\n",
       "    <tr style=\"text-align: right;\">\n",
       "      <th></th>\n",
       "      <th>math score</th>\n",
       "      <th>reading score</th>\n",
       "      <th>writing score</th>\n",
       "    </tr>\n",
       "  </thead>\n",
       "  <tbody>\n",
       "    <tr>\n",
       "      <th>count</th>\n",
       "      <td>997.000000</td>\n",
       "      <td>996.000000</td>\n",
       "      <td>996.000000</td>\n",
       "    </tr>\n",
       "    <tr>\n",
       "      <th>mean</th>\n",
       "      <td>107.664995</td>\n",
       "      <td>122.341365</td>\n",
       "      <td>111.401606</td>\n",
       "    </tr>\n",
       "    <tr>\n",
       "      <th>std</th>\n",
       "      <td>16.758326</td>\n",
       "      <td>17.490096</td>\n",
       "      <td>16.297959</td>\n",
       "    </tr>\n",
       "    <tr>\n",
       "      <th>min</th>\n",
       "      <td>50.000000</td>\n",
       "      <td>51.000000</td>\n",
       "      <td>54.000000</td>\n",
       "    </tr>\n",
       "    <tr>\n",
       "      <th>25%</th>\n",
       "      <td>97.000000</td>\n",
       "      <td>113.000000</td>\n",
       "      <td>101.000000</td>\n",
       "    </tr>\n",
       "    <tr>\n",
       "      <th>50%</th>\n",
       "      <td>108.000000</td>\n",
       "      <td>124.000000</td>\n",
       "      <td>113.000000</td>\n",
       "    </tr>\n",
       "    <tr>\n",
       "      <th>75%</th>\n",
       "      <td>119.000000</td>\n",
       "      <td>134.000000</td>\n",
       "      <td>123.000000</td>\n",
       "    </tr>\n",
       "    <tr>\n",
       "      <th>max</th>\n",
       "      <td>149.000000</td>\n",
       "      <td>150.000000</td>\n",
       "      <td>144.000000</td>\n",
       "    </tr>\n",
       "  </tbody>\n",
       "</table>\n",
       "</div>"
      ],
      "text/plain": [
       "       math score  reading score  writing score\n",
       "count  997.000000     996.000000     996.000000\n",
       "mean   107.664995     122.341365     111.401606\n",
       "std     16.758326      17.490096      16.297959\n",
       "min     50.000000      51.000000      54.000000\n",
       "25%     97.000000     113.000000     101.000000\n",
       "50%    108.000000     124.000000     113.000000\n",
       "75%    119.000000     134.000000     123.000000\n",
       "max    149.000000     150.000000     144.000000"
      ]
     },
     "execution_count": 264,
     "metadata": {},
     "output_type": "execute_result"
    }
   ],
   "source": [
    "df.describe()"
   ]
  },
  {
   "cell_type": "markdown",
   "id": "1ad2384a",
   "metadata": {},
   "source": [
    "The above table describes the given dataset. It shows that mean, median, max, min and other statistical values. It can be seen that the maximum score is 150 and not 100."
   ]
  },
  {
   "cell_type": "markdown",
   "id": "4ed38c8c",
   "metadata": {},
   "source": [
    "## Introductory Questions"
   ]
  },
  {
   "cell_type": "markdown",
   "id": "a38f8aee",
   "metadata": {},
   "source": [
    "### 1. Add percentage column"
   ]
  },
  {
   "cell_type": "code",
   "execution_count": 265,
   "id": "462e6e21",
   "metadata": {},
   "outputs": [
    {
     "data": {
      "text/html": [
       "<div>\n",
       "<style scoped>\n",
       "    .dataframe tbody tr th:only-of-type {\n",
       "        vertical-align: middle;\n",
       "    }\n",
       "\n",
       "    .dataframe tbody tr th {\n",
       "        vertical-align: top;\n",
       "    }\n",
       "\n",
       "    .dataframe thead th {\n",
       "        text-align: right;\n",
       "    }\n",
       "</style>\n",
       "<table border=\"1\" class=\"dataframe\">\n",
       "  <thead>\n",
       "    <tr style=\"text-align: right;\">\n",
       "      <th></th>\n",
       "      <th>gender</th>\n",
       "      <th>race</th>\n",
       "      <th>parental level of education</th>\n",
       "      <th>lunch</th>\n",
       "      <th>test preparation course</th>\n",
       "      <th>math score</th>\n",
       "      <th>reading score</th>\n",
       "      <th>writing score</th>\n",
       "      <th>percentage</th>\n",
       "    </tr>\n",
       "  </thead>\n",
       "  <tbody>\n",
       "    <tr>\n",
       "      <th>0</th>\n",
       "      <td>female</td>\n",
       "      <td>group B</td>\n",
       "      <td>bachelor's degree</td>\n",
       "      <td>standard</td>\n",
       "      <td>none</td>\n",
       "      <td>114.0</td>\n",
       "      <td>128.0</td>\n",
       "      <td>118.0</td>\n",
       "      <td>80.00</td>\n",
       "    </tr>\n",
       "    <tr>\n",
       "      <th>1</th>\n",
       "      <td>male</td>\n",
       "      <td>group E</td>\n",
       "      <td>associate's degree</td>\n",
       "      <td>free/reduced</td>\n",
       "      <td>completed</td>\n",
       "      <td>111.0</td>\n",
       "      <td>146.0</td>\n",
       "      <td>132.0</td>\n",
       "      <td>86.44</td>\n",
       "    </tr>\n",
       "    <tr>\n",
       "      <th>2</th>\n",
       "      <td>male</td>\n",
       "      <td>group B</td>\n",
       "      <td>high school</td>\n",
       "      <td>free/reduced</td>\n",
       "      <td>completed</td>\n",
       "      <td>132.0</td>\n",
       "      <td>145.0</td>\n",
       "      <td>137.0</td>\n",
       "      <td>92.00</td>\n",
       "    </tr>\n",
       "    <tr>\n",
       "      <th>3</th>\n",
       "      <td>male</td>\n",
       "      <td>group B</td>\n",
       "      <td>some college</td>\n",
       "      <td>standard</td>\n",
       "      <td>completed</td>\n",
       "      <td>89.0</td>\n",
       "      <td>113.0</td>\n",
       "      <td>88.0</td>\n",
       "      <td>64.44</td>\n",
       "    </tr>\n",
       "    <tr>\n",
       "      <th>4</th>\n",
       "      <td>male</td>\n",
       "      <td>group A</td>\n",
       "      <td>associate's degree</td>\n",
       "      <td>standard</td>\n",
       "      <td>completed</td>\n",
       "      <td>118.0</td>\n",
       "      <td>134.0</td>\n",
       "      <td>119.0</td>\n",
       "      <td>82.44</td>\n",
       "    </tr>\n",
       "    <tr>\n",
       "      <th>...</th>\n",
       "      <td>...</td>\n",
       "      <td>...</td>\n",
       "      <td>...</td>\n",
       "      <td>...</td>\n",
       "      <td>...</td>\n",
       "      <td>...</td>\n",
       "      <td>...</td>\n",
       "      <td>...</td>\n",
       "      <td>...</td>\n",
       "    </tr>\n",
       "    <tr>\n",
       "      <th>995</th>\n",
       "      <td>male</td>\n",
       "      <td>group A</td>\n",
       "      <td>some high school</td>\n",
       "      <td>standard</td>\n",
       "      <td>none</td>\n",
       "      <td>130.0</td>\n",
       "      <td>149.0</td>\n",
       "      <td>139.0</td>\n",
       "      <td>92.89</td>\n",
       "    </tr>\n",
       "    <tr>\n",
       "      <th>996</th>\n",
       "      <td>male</td>\n",
       "      <td>group C</td>\n",
       "      <td>associate's degree</td>\n",
       "      <td>standard</td>\n",
       "      <td>completed</td>\n",
       "      <td>104.0</td>\n",
       "      <td>111.0</td>\n",
       "      <td>99.0</td>\n",
       "      <td>69.78</td>\n",
       "    </tr>\n",
       "    <tr>\n",
       "      <th>997</th>\n",
       "      <td>male</td>\n",
       "      <td>group C</td>\n",
       "      <td>bachelor's degree</td>\n",
       "      <td>free/reduced</td>\n",
       "      <td>completed</td>\n",
       "      <td>101.0</td>\n",
       "      <td>125.0</td>\n",
       "      <td>109.0</td>\n",
       "      <td>74.44</td>\n",
       "    </tr>\n",
       "    <tr>\n",
       "      <th>998</th>\n",
       "      <td>male</td>\n",
       "      <td>group C</td>\n",
       "      <td>bachelor's degree</td>\n",
       "      <td>free/reduced</td>\n",
       "      <td>completed</td>\n",
       "      <td>110.0</td>\n",
       "      <td>134.0</td>\n",
       "      <td>121.0</td>\n",
       "      <td>81.11</td>\n",
       "    </tr>\n",
       "    <tr>\n",
       "      <th>999</th>\n",
       "      <td>male</td>\n",
       "      <td>group C</td>\n",
       "      <td>some college</td>\n",
       "      <td>free/reduced</td>\n",
       "      <td>completed</td>\n",
       "      <td>119.0</td>\n",
       "      <td>142.0</td>\n",
       "      <td>130.0</td>\n",
       "      <td>86.89</td>\n",
       "    </tr>\n",
       "  </tbody>\n",
       "</table>\n",
       "<p>1000 rows × 9 columns</p>\n",
       "</div>"
      ],
      "text/plain": [
       "     gender     race parental level of education         lunch  \\\n",
       "0    female  group B           bachelor's degree      standard   \n",
       "1      male  group E          associate's degree  free/reduced   \n",
       "2      male  group B                 high school  free/reduced   \n",
       "3      male  group B                some college      standard   \n",
       "4      male  group A          associate's degree      standard   \n",
       "..      ...      ...                         ...           ...   \n",
       "995    male  group A            some high school      standard   \n",
       "996    male  group C          associate's degree      standard   \n",
       "997    male  group C           bachelor's degree  free/reduced   \n",
       "998    male  group C           bachelor's degree  free/reduced   \n",
       "999    male  group C                some college  free/reduced   \n",
       "\n",
       "    test preparation course  math score  reading score  writing score  \\\n",
       "0                      none       114.0          128.0          118.0   \n",
       "1                 completed       111.0          146.0          132.0   \n",
       "2                 completed       132.0          145.0          137.0   \n",
       "3                 completed        89.0          113.0           88.0   \n",
       "4                 completed       118.0          134.0          119.0   \n",
       "..                      ...         ...            ...            ...   \n",
       "995                    none       130.0          149.0          139.0   \n",
       "996               completed       104.0          111.0           99.0   \n",
       "997               completed       101.0          125.0          109.0   \n",
       "998               completed       110.0          134.0          121.0   \n",
       "999               completed       119.0          142.0          130.0   \n",
       "\n",
       "     percentage  \n",
       "0         80.00  \n",
       "1         86.44  \n",
       "2         92.00  \n",
       "3         64.44  \n",
       "4         82.44  \n",
       "..          ...  \n",
       "995       92.89  \n",
       "996       69.78  \n",
       "997       74.44  \n",
       "998       81.11  \n",
       "999       86.89  \n",
       "\n",
       "[1000 rows x 9 columns]"
      ]
     },
     "execution_count": 265,
     "metadata": {},
     "output_type": "execute_result"
    }
   ],
   "source": [
    "# percentage = (sum of scores/total score) * 100\n",
    "df['percentage']=round(((df['math score']+df['reading score']+df['writing score'])/450)*100,2)\n",
    "df"
   ]
  },
  {
   "cell_type": "code",
   "execution_count": 266,
   "id": "1f70b885",
   "metadata": {},
   "outputs": [
    {
     "data": {
      "text/html": [
       "<div>\n",
       "<style scoped>\n",
       "    .dataframe tbody tr th:only-of-type {\n",
       "        vertical-align: middle;\n",
       "    }\n",
       "\n",
       "    .dataframe tbody tr th {\n",
       "        vertical-align: top;\n",
       "    }\n",
       "\n",
       "    .dataframe thead th {\n",
       "        text-align: right;\n",
       "    }\n",
       "</style>\n",
       "<table border=\"1\" class=\"dataframe\">\n",
       "  <thead>\n",
       "    <tr style=\"text-align: right;\">\n",
       "      <th></th>\n",
       "      <th>math score</th>\n",
       "      <th>reading score</th>\n",
       "      <th>writing score</th>\n",
       "      <th>percentage</th>\n",
       "    </tr>\n",
       "  </thead>\n",
       "  <tbody>\n",
       "    <tr>\n",
       "      <th>count</th>\n",
       "      <td>997.000000</td>\n",
       "      <td>996.000000</td>\n",
       "      <td>996.000000</td>\n",
       "      <td>992.000000</td>\n",
       "    </tr>\n",
       "    <tr>\n",
       "      <th>mean</th>\n",
       "      <td>107.664995</td>\n",
       "      <td>122.341365</td>\n",
       "      <td>111.401606</td>\n",
       "      <td>75.851653</td>\n",
       "    </tr>\n",
       "    <tr>\n",
       "      <th>std</th>\n",
       "      <td>16.758326</td>\n",
       "      <td>17.490096</td>\n",
       "      <td>16.297959</td>\n",
       "      <td>9.480590</td>\n",
       "    </tr>\n",
       "    <tr>\n",
       "      <th>min</th>\n",
       "      <td>50.000000</td>\n",
       "      <td>51.000000</td>\n",
       "      <td>54.000000</td>\n",
       "      <td>39.330000</td>\n",
       "    </tr>\n",
       "    <tr>\n",
       "      <th>25%</th>\n",
       "      <td>97.000000</td>\n",
       "      <td>113.000000</td>\n",
       "      <td>101.000000</td>\n",
       "      <td>69.110000</td>\n",
       "    </tr>\n",
       "    <tr>\n",
       "      <th>50%</th>\n",
       "      <td>108.000000</td>\n",
       "      <td>124.000000</td>\n",
       "      <td>113.000000</td>\n",
       "      <td>76.440000</td>\n",
       "    </tr>\n",
       "    <tr>\n",
       "      <th>75%</th>\n",
       "      <td>119.000000</td>\n",
       "      <td>134.000000</td>\n",
       "      <td>123.000000</td>\n",
       "      <td>82.670000</td>\n",
       "    </tr>\n",
       "    <tr>\n",
       "      <th>max</th>\n",
       "      <td>149.000000</td>\n",
       "      <td>150.000000</td>\n",
       "      <td>144.000000</td>\n",
       "      <td>96.890000</td>\n",
       "    </tr>\n",
       "  </tbody>\n",
       "</table>\n",
       "</div>"
      ],
      "text/plain": [
       "       math score  reading score  writing score  percentage\n",
       "count  997.000000     996.000000     996.000000  992.000000\n",
       "mean   107.664995     122.341365     111.401606   75.851653\n",
       "std     16.758326      17.490096      16.297959    9.480590\n",
       "min     50.000000      51.000000      54.000000   39.330000\n",
       "25%     97.000000     113.000000     101.000000   69.110000\n",
       "50%    108.000000     124.000000     113.000000   76.440000\n",
       "75%    119.000000     134.000000     123.000000   82.670000\n",
       "max    149.000000     150.000000     144.000000   96.890000"
      ]
     },
     "execution_count": 266,
     "metadata": {},
     "output_type": "execute_result"
    }
   ],
   "source": [
    "df.describe()"
   ]
  },
  {
   "cell_type": "markdown",
   "id": "d7a74484",
   "metadata": {},
   "source": [
    "The percentage of each student is calculated and added to the dataframe. Since the maximum score is taken to be 150, percentage is calculated by - percentage = (sum of scores/450)*100 \n",
    "It can be seen that that the mean percentage is 75.85%. The max and min percentages are 96.89% and 39.33%."
   ]
  },
  {
   "cell_type": "markdown",
   "id": "1b8e8890",
   "metadata": {},
   "source": [
    "### 2.Remove Null Data"
   ]
  },
  {
   "cell_type": "code",
   "execution_count": 267,
   "id": "8463654f",
   "metadata": {},
   "outputs": [
    {
     "data": {
      "text/plain": [
       "gender                         0\n",
       "race                           0\n",
       "parental level of education    3\n",
       "lunch                          0\n",
       "test preparation course        0\n",
       "math score                     3\n",
       "reading score                  4\n",
       "writing score                  4\n",
       "percentage                     8\n",
       "dtype: int64"
      ]
     },
     "execution_count": 267,
     "metadata": {},
     "output_type": "execute_result"
    }
   ],
   "source": [
    "df.isnull().sum()"
   ]
  },
  {
   "cell_type": "markdown",
   "id": "a60624f8",
   "metadata": {},
   "source": [
    "From the above data it can be seen that the given dataset has 3 null values in parent level of education and 3,4 and 4 null values in math, reading and writing scores. These null values must either be replaced with average value or must be dropped."
   ]
  },
  {
   "cell_type": "code",
   "execution_count": 268,
   "id": "fa3b7045",
   "metadata": {},
   "outputs": [
    {
     "data": {
      "text/plain": [
       "gender                         0\n",
       "race                           0\n",
       "parental level of education    0\n",
       "lunch                          0\n",
       "test preparation course        0\n",
       "math score                     0\n",
       "reading score                  0\n",
       "writing score                  0\n",
       "percentage                     0\n",
       "dtype: int64"
      ]
     },
     "execution_count": 268,
     "metadata": {},
     "output_type": "execute_result"
    }
   ],
   "source": [
    "# Math, Reading score and writing score have numeric null values\n",
    "df = df.fillna(df.mean())\n",
    "df = df.dropna()\n",
    "df.isnull().sum()"
   ]
  },
  {
   "cell_type": "markdown",
   "id": "192f6600",
   "metadata": {},
   "source": [
    "The above table shows that there are no null values in the dataframe."
   ]
  },
  {
   "cell_type": "markdown",
   "id": "1a920872",
   "metadata": {},
   "source": [
    "### 3. Reading Score Distribution"
   ]
  },
  {
   "cell_type": "code",
   "execution_count": 269,
   "id": "0c2278dd",
   "metadata": {},
   "outputs": [
    {
     "name": "stderr",
     "output_type": "stream",
     "text": [
      "C:\\Anaconda\\lib\\site-packages\\seaborn\\distributions.py:2557: FutureWarning: `distplot` is a deprecated function and will be removed in a future version. Please adapt your code to use either `displot` (a figure-level function with similar flexibility) or `histplot` (an axes-level function for histograms).\n",
      "  warnings.warn(msg, FutureWarning)\n"
     ]
    },
    {
     "data": {
      "text/plain": [
       "<AxesSubplot:xlabel='reading score', ylabel='Density'>"
      ]
     },
     "execution_count": 269,
     "metadata": {},
     "output_type": "execute_result"
    },
    {
     "data": {
      "image/png": "[encoded data removed]",
      "text/plain": [
       "<Figure size 432x288 with 1 Axes>"
      ]
     },
     "metadata": {
      "needs_background": "light"
     },
     "output_type": "display_data"
    }
   ],
   "source": [
    "sns.distplot(df['reading score'])"
   ]
  },
  {
   "cell_type": "markdown",
   "id": "d50f930e",
   "metadata": {},
   "source": [
    "The reading score distribution is left skewed.\n",
    "Formula for left skewed: Skew = 3 * (Mean – Median) / Standard Deviation\n",
    "- Left skewed graphs are also called negatively skewed  \n",
    "- Large number of data values occur on the right side with a fewer number of data values on the left side."
   ]
  },
  {
   "cell_type": "markdown",
   "id": "1912e1f5",
   "metadata": {},
   "source": [
    "### 4. Grading System"
   ]
  },
  {
   "cell_type": "code",
   "execution_count": 270,
   "id": "e6e508b7",
   "metadata": {},
   "outputs": [],
   "source": [
    "# function to determine grade based on score or percentage\n",
    "def grade(score):\n",
    "    if(score>=90):\n",
    "        return 'S'\n",
    "    elif(score>=80):\n",
    "        return 'A'\n",
    "    elif(score>=70):\n",
    "        return 'B'\n",
    "    elif(score>=60):\n",
    "        return 'C'\n",
    "    elif(score>=40):\n",
    "        return 'D'\n",
    "    else:\n",
    "        return 'F'"
   ]
  },
  {
   "cell_type": "code",
   "execution_count": 271,
   "id": "e6d0850c",
   "metadata": {},
   "outputs": [
    {
     "data": {
      "text/html": [
       "<div>\n",
       "<style scoped>\n",
       "    .dataframe tbody tr th:only-of-type {\n",
       "        vertical-align: middle;\n",
       "    }\n",
       "\n",
       "    .dataframe tbody tr th {\n",
       "        vertical-align: top;\n",
       "    }\n",
       "\n",
       "    .dataframe thead th {\n",
       "        text-align: right;\n",
       "    }\n",
       "</style>\n",
       "<table border=\"1\" class=\"dataframe\">\n",
       "  <thead>\n",
       "    <tr style=\"text-align: right;\">\n",
       "      <th></th>\n",
       "      <th>gender</th>\n",
       "      <th>race</th>\n",
       "      <th>parental level of education</th>\n",
       "      <th>lunch</th>\n",
       "      <th>test preparation course</th>\n",
       "      <th>math score</th>\n",
       "      <th>reading score</th>\n",
       "      <th>writing score</th>\n",
       "      <th>percentage</th>\n",
       "      <th>grade</th>\n",
       "    </tr>\n",
       "  </thead>\n",
       "  <tbody>\n",
       "    <tr>\n",
       "      <th>0</th>\n",
       "      <td>female</td>\n",
       "      <td>group B</td>\n",
       "      <td>bachelor's degree</td>\n",
       "      <td>standard</td>\n",
       "      <td>none</td>\n",
       "      <td>114.0</td>\n",
       "      <td>128.0</td>\n",
       "      <td>118.0</td>\n",
       "      <td>80.00</td>\n",
       "      <td>A</td>\n",
       "    </tr>\n",
       "    <tr>\n",
       "      <th>1</th>\n",
       "      <td>male</td>\n",
       "      <td>group E</td>\n",
       "      <td>associate's degree</td>\n",
       "      <td>free/reduced</td>\n",
       "      <td>completed</td>\n",
       "      <td>111.0</td>\n",
       "      <td>146.0</td>\n",
       "      <td>132.0</td>\n",
       "      <td>86.44</td>\n",
       "      <td>A</td>\n",
       "    </tr>\n",
       "    <tr>\n",
       "      <th>2</th>\n",
       "      <td>male</td>\n",
       "      <td>group B</td>\n",
       "      <td>high school</td>\n",
       "      <td>free/reduced</td>\n",
       "      <td>completed</td>\n",
       "      <td>132.0</td>\n",
       "      <td>145.0</td>\n",
       "      <td>137.0</td>\n",
       "      <td>92.00</td>\n",
       "      <td>S</td>\n",
       "    </tr>\n",
       "    <tr>\n",
       "      <th>3</th>\n",
       "      <td>male</td>\n",
       "      <td>group B</td>\n",
       "      <td>some college</td>\n",
       "      <td>standard</td>\n",
       "      <td>completed</td>\n",
       "      <td>89.0</td>\n",
       "      <td>113.0</td>\n",
       "      <td>88.0</td>\n",
       "      <td>64.44</td>\n",
       "      <td>C</td>\n",
       "    </tr>\n",
       "    <tr>\n",
       "      <th>4</th>\n",
       "      <td>male</td>\n",
       "      <td>group A</td>\n",
       "      <td>associate's degree</td>\n",
       "      <td>standard</td>\n",
       "      <td>completed</td>\n",
       "      <td>118.0</td>\n",
       "      <td>134.0</td>\n",
       "      <td>119.0</td>\n",
       "      <td>82.44</td>\n",
       "      <td>A</td>\n",
       "    </tr>\n",
       "    <tr>\n",
       "      <th>...</th>\n",
       "      <td>...</td>\n",
       "      <td>...</td>\n",
       "      <td>...</td>\n",
       "      <td>...</td>\n",
       "      <td>...</td>\n",
       "      <td>...</td>\n",
       "      <td>...</td>\n",
       "      <td>...</td>\n",
       "      <td>...</td>\n",
       "      <td>...</td>\n",
       "    </tr>\n",
       "    <tr>\n",
       "      <th>995</th>\n",
       "      <td>male</td>\n",
       "      <td>group A</td>\n",
       "      <td>some high school</td>\n",
       "      <td>standard</td>\n",
       "      <td>none</td>\n",
       "      <td>130.0</td>\n",
       "      <td>149.0</td>\n",
       "      <td>139.0</td>\n",
       "      <td>92.89</td>\n",
       "      <td>S</td>\n",
       "    </tr>\n",
       "    <tr>\n",
       "      <th>996</th>\n",
       "      <td>male</td>\n",
       "      <td>group C</td>\n",
       "      <td>associate's degree</td>\n",
       "      <td>standard</td>\n",
       "      <td>completed</td>\n",
       "      <td>104.0</td>\n",
       "      <td>111.0</td>\n",
       "      <td>99.0</td>\n",
       "      <td>69.78</td>\n",
       "      <td>C</td>\n",
       "    </tr>\n",
       "    <tr>\n",
       "      <th>997</th>\n",
       "      <td>male</td>\n",
       "      <td>group C</td>\n",
       "      <td>bachelor's degree</td>\n",
       "      <td>free/reduced</td>\n",
       "      <td>completed</td>\n",
       "      <td>101.0</td>\n",
       "      <td>125.0</td>\n",
       "      <td>109.0</td>\n",
       "      <td>74.44</td>\n",
       "      <td>B</td>\n",
       "    </tr>\n",
       "    <tr>\n",
       "      <th>998</th>\n",
       "      <td>male</td>\n",
       "      <td>group C</td>\n",
       "      <td>bachelor's degree</td>\n",
       "      <td>free/reduced</td>\n",
       "      <td>completed</td>\n",
       "      <td>110.0</td>\n",
       "      <td>134.0</td>\n",
       "      <td>121.0</td>\n",
       "      <td>81.11</td>\n",
       "      <td>A</td>\n",
       "    </tr>\n",
       "    <tr>\n",
       "      <th>999</th>\n",
       "      <td>male</td>\n",
       "      <td>group C</td>\n",
       "      <td>some college</td>\n",
       "      <td>free/reduced</td>\n",
       "      <td>completed</td>\n",
       "      <td>119.0</td>\n",
       "      <td>142.0</td>\n",
       "      <td>130.0</td>\n",
       "      <td>86.89</td>\n",
       "      <td>A</td>\n",
       "    </tr>\n",
       "  </tbody>\n",
       "</table>\n",
       "<p>997 rows × 10 columns</p>\n",
       "</div>"
      ],
      "text/plain": [
       "     gender     race parental level of education         lunch  \\\n",
       "0    female  group B           bachelor's degree      standard   \n",
       "1      male  group E          associate's degree  free/reduced   \n",
       "2      male  group B                 high school  free/reduced   \n",
       "3      male  group B                some college      standard   \n",
       "4      male  group A          associate's degree      standard   \n",
       "..      ...      ...                         ...           ...   \n",
       "995    male  group A            some high school      standard   \n",
       "996    male  group C          associate's degree      standard   \n",
       "997    male  group C           bachelor's degree  free/reduced   \n",
       "998    male  group C           bachelor's degree  free/reduced   \n",
       "999    male  group C                some college  free/reduced   \n",
       "\n",
       "    test preparation course  math score  reading score  writing score  \\\n",
       "0                      none       114.0          128.0          118.0   \n",
       "1                 completed       111.0          146.0          132.0   \n",
       "2                 completed       132.0          145.0          137.0   \n",
       "3                 completed        89.0          113.0           88.0   \n",
       "4                 completed       118.0          134.0          119.0   \n",
       "..                      ...         ...            ...            ...   \n",
       "995                    none       130.0          149.0          139.0   \n",
       "996               completed       104.0          111.0           99.0   \n",
       "997               completed       101.0          125.0          109.0   \n",
       "998               completed       110.0          134.0          121.0   \n",
       "999               completed       119.0          142.0          130.0   \n",
       "\n",
       "     percentage grade  \n",
       "0         80.00     A  \n",
       "1         86.44     A  \n",
       "2         92.00     S  \n",
       "3         64.44     C  \n",
       "4         82.44     A  \n",
       "..          ...   ...  \n",
       "995       92.89     S  \n",
       "996       69.78     C  \n",
       "997       74.44     B  \n",
       "998       81.11     A  \n",
       "999       86.89     A  \n",
       "\n",
       "[997 rows x 10 columns]"
      ]
     },
     "execution_count": 271,
     "metadata": {},
     "output_type": "execute_result"
    }
   ],
   "source": [
    "df['grade'] = df[\"percentage\"].map(grade)\n",
    "df"
   ]
  },
  {
   "cell_type": "markdown",
   "id": "c905313e",
   "metadata": {},
   "source": [
    "The students have been assigned grades based on the percentages that have been calculated previously. A student scoring above 90 gets S grade, 80-90 - A, 70-80 gets B and so on. The lowest grade, F, is given to students scoring less than 40. The grades are added to dataframe using map function."
   ]
  },
  {
   "cell_type": "markdown",
   "id": "2ad2639c",
   "metadata": {},
   "source": [
    "### 5. Distribution of Percentage based on Parent level of education"
   ]
  },
  {
   "cell_type": "code",
   "execution_count": 272,
   "id": "f2f351ac",
   "metadata": {},
   "outputs": [
    {
     "name": "stderr",
     "output_type": "stream",
     "text": [
      "C:\\Anaconda\\lib\\site-packages\\seaborn\\categorical.py:3714: UserWarning: The `factorplot` function has been renamed to `catplot`. The original name will be removed in a future release. Please update your code. Note that the default `kind` in `factorplot` (`'point'`) has changed `'strip'` in `catplot`.\n",
      "  warnings.warn(msg)\n"
     ]
    },
    {
     "data": {
      "text/plain": [
       "<seaborn.axisgrid.FacetGrid at 0x21319acd2e0>"
      ]
     },
     "execution_count": 272,
     "metadata": {},
     "output_type": "execute_result"
    },
    {
     "data": {
      "image/png": "[encoded data removed]",
      "text/plain": [
       "<Figure size 912.9x595.44 with 1 Axes>"
      ]
     },
     "metadata": {
      "needs_background": "light"
     },
     "output_type": "display_data"
    }
   ],
   "source": [
    "sns.factorplot(x='parental level of education',y='percentage',hue='gender', data=df,kind='bar',height=8.27, \n",
    "               aspect=11.7/8.27)"
   ]
  },
  {
   "cell_type": "markdown",
   "id": "761d5b76",
   "metadata": {},
   "source": [
    "# Tasks"
   ]
  },
  {
   "cell_type": "markdown",
   "id": "be6f742e",
   "metadata": {},
   "source": [
    "### Task 1"
   ]
  },
  {
   "cell_type": "code",
   "execution_count": 273,
   "id": "5800fab8",
   "metadata": {},
   "outputs": [
    {
     "data": {
      "text/html": [
       "<div>\n",
       "<style scoped>\n",
       "    .dataframe tbody tr th:only-of-type {\n",
       "        vertical-align: middle;\n",
       "    }\n",
       "\n",
       "    .dataframe tbody tr th {\n",
       "        vertical-align: top;\n",
       "    }\n",
       "\n",
       "    .dataframe thead th {\n",
       "        text-align: right;\n",
       "    }\n",
       "</style>\n",
       "<table border=\"1\" class=\"dataframe\">\n",
       "  <thead>\n",
       "    <tr style=\"text-align: right;\">\n",
       "      <th></th>\n",
       "      <th>gender</th>\n",
       "      <th>race</th>\n",
       "      <th>parental level of education</th>\n",
       "      <th>lunch</th>\n",
       "      <th>test preparation course</th>\n",
       "      <th>math score</th>\n",
       "      <th>reading score</th>\n",
       "      <th>writing score</th>\n",
       "      <th>percentage</th>\n",
       "      <th>grade</th>\n",
       "    </tr>\n",
       "  </thead>\n",
       "  <tbody>\n",
       "    <tr>\n",
       "      <th>405</th>\n",
       "      <td>male</td>\n",
       "      <td>group B</td>\n",
       "      <td>associate's degree</td>\n",
       "      <td>free/reduced</td>\n",
       "      <td>completed</td>\n",
       "      <td>105.0</td>\n",
       "      <td>129.0</td>\n",
       "      <td>112.0</td>\n",
       "      <td>76.89</td>\n",
       "      <td>B</td>\n",
       "    </tr>\n",
       "    <tr>\n",
       "      <th>930</th>\n",
       "      <td>male</td>\n",
       "      <td>group E</td>\n",
       "      <td>some college</td>\n",
       "      <td>standard</td>\n",
       "      <td>completed</td>\n",
       "      <td>109.0</td>\n",
       "      <td>130.0</td>\n",
       "      <td>114.0</td>\n",
       "      <td>78.44</td>\n",
       "      <td>B</td>\n",
       "    </tr>\n",
       "    <tr>\n",
       "      <th>656</th>\n",
       "      <td>male</td>\n",
       "      <td>group E</td>\n",
       "      <td>associate's degree</td>\n",
       "      <td>standard</td>\n",
       "      <td>completed</td>\n",
       "      <td>119.0</td>\n",
       "      <td>123.0</td>\n",
       "      <td>108.0</td>\n",
       "      <td>77.78</td>\n",
       "      <td>B</td>\n",
       "    </tr>\n",
       "    <tr>\n",
       "      <th>311</th>\n",
       "      <td>male</td>\n",
       "      <td>group C</td>\n",
       "      <td>associate's degree</td>\n",
       "      <td>free/reduced</td>\n",
       "      <td>completed</td>\n",
       "      <td>108.0</td>\n",
       "      <td>116.0</td>\n",
       "      <td>101.0</td>\n",
       "      <td>72.22</td>\n",
       "      <td>B</td>\n",
       "    </tr>\n",
       "    <tr>\n",
       "      <th>688</th>\n",
       "      <td>male</td>\n",
       "      <td>group C</td>\n",
       "      <td>master's degree</td>\n",
       "      <td>standard</td>\n",
       "      <td>completed</td>\n",
       "      <td>95.0</td>\n",
       "      <td>114.0</td>\n",
       "      <td>88.0</td>\n",
       "      <td>66.00</td>\n",
       "      <td>C</td>\n",
       "    </tr>\n",
       "    <tr>\n",
       "      <th>...</th>\n",
       "      <td>...</td>\n",
       "      <td>...</td>\n",
       "      <td>...</td>\n",
       "      <td>...</td>\n",
       "      <td>...</td>\n",
       "      <td>...</td>\n",
       "      <td>...</td>\n",
       "      <td>...</td>\n",
       "      <td>...</td>\n",
       "      <td>...</td>\n",
       "    </tr>\n",
       "    <tr>\n",
       "      <th>564</th>\n",
       "      <td>male</td>\n",
       "      <td>group A</td>\n",
       "      <td>some college</td>\n",
       "      <td>standard</td>\n",
       "      <td>completed</td>\n",
       "      <td>90.0</td>\n",
       "      <td>107.0</td>\n",
       "      <td>90.0</td>\n",
       "      <td>63.78</td>\n",
       "      <td>C</td>\n",
       "    </tr>\n",
       "    <tr>\n",
       "      <th>884</th>\n",
       "      <td>male</td>\n",
       "      <td>group A</td>\n",
       "      <td>master's degree</td>\n",
       "      <td>standard</td>\n",
       "      <td>completed</td>\n",
       "      <td>96.0</td>\n",
       "      <td>107.0</td>\n",
       "      <td>98.0</td>\n",
       "      <td>66.89</td>\n",
       "      <td>C</td>\n",
       "    </tr>\n",
       "    <tr>\n",
       "      <th>992</th>\n",
       "      <td>male</td>\n",
       "      <td>group C</td>\n",
       "      <td>associate's degree</td>\n",
       "      <td>standard</td>\n",
       "      <td>completed</td>\n",
       "      <td>97.0</td>\n",
       "      <td>132.0</td>\n",
       "      <td>120.0</td>\n",
       "      <td>77.56</td>\n",
       "      <td>B</td>\n",
       "    </tr>\n",
       "    <tr>\n",
       "      <th>958</th>\n",
       "      <td>male</td>\n",
       "      <td>group B</td>\n",
       "      <td>master's degree</td>\n",
       "      <td>standard</td>\n",
       "      <td>completed</td>\n",
       "      <td>87.0</td>\n",
       "      <td>114.0</td>\n",
       "      <td>103.0</td>\n",
       "      <td>67.56</td>\n",
       "      <td>C</td>\n",
       "    </tr>\n",
       "    <tr>\n",
       "      <th>266</th>\n",
       "      <td>male</td>\n",
       "      <td>group C</td>\n",
       "      <td>associate's degree</td>\n",
       "      <td>standard</td>\n",
       "      <td>completed</td>\n",
       "      <td>105.0</td>\n",
       "      <td>131.0</td>\n",
       "      <td>125.0</td>\n",
       "      <td>80.22</td>\n",
       "      <td>A</td>\n",
       "    </tr>\n",
       "  </tbody>\n",
       "</table>\n",
       "<p>100 rows × 10 columns</p>\n",
       "</div>"
      ],
      "text/plain": [
       "    gender     race parental level of education         lunch  \\\n",
       "405   male  group B          associate's degree  free/reduced   \n",
       "930   male  group E                some college      standard   \n",
       "656   male  group E          associate's degree      standard   \n",
       "311   male  group C          associate's degree  free/reduced   \n",
       "688   male  group C             master's degree      standard   \n",
       "..     ...      ...                         ...           ...   \n",
       "564   male  group A                some college      standard   \n",
       "884   male  group A             master's degree      standard   \n",
       "992   male  group C          associate's degree      standard   \n",
       "958   male  group B             master's degree      standard   \n",
       "266   male  group C          associate's degree      standard   \n",
       "\n",
       "    test preparation course  math score  reading score  writing score  \\\n",
       "405               completed       105.0          129.0          112.0   \n",
       "930               completed       109.0          130.0          114.0   \n",
       "656               completed       119.0          123.0          108.0   \n",
       "311               completed       108.0          116.0          101.0   \n",
       "688               completed        95.0          114.0           88.0   \n",
       "..                      ...         ...            ...            ...   \n",
       "564               completed        90.0          107.0           90.0   \n",
       "884               completed        96.0          107.0           98.0   \n",
       "992               completed        97.0          132.0          120.0   \n",
       "958               completed        87.0          114.0          103.0   \n",
       "266               completed       105.0          131.0          125.0   \n",
       "\n",
       "     percentage grade  \n",
       "405       76.89     B  \n",
       "930       78.44     B  \n",
       "656       77.78     B  \n",
       "311       72.22     B  \n",
       "688       66.00     C  \n",
       "..          ...   ...  \n",
       "564       63.78     C  \n",
       "884       66.89     C  \n",
       "992       77.56     B  \n",
       "958       67.56     C  \n",
       "266       80.22     A  \n",
       "\n",
       "[100 rows x 10 columns]"
      ]
     },
     "execution_count": 273,
     "metadata": {},
     "output_type": "execute_result"
    }
   ],
   "source": [
    "# Simple random sampling - Sample a\n",
    "df_sample1 = df.sample(n=100)\n",
    "df_sample1"
   ]
  },
  {
   "cell_type": "markdown",
   "id": "e5a81161",
   "metadata": {},
   "source": [
    "A random sample of 100 students have been generated."
   ]
  },
  {
   "cell_type": "code",
   "execution_count": 274,
   "id": "b28486c8",
   "metadata": {},
   "outputs": [
    {
     "data": {
      "text/plain": [
       "group C    383\n",
       "group A    263\n",
       "group B    204\n",
       "group E    101\n",
       "group D     46\n",
       "Name: race, dtype: int64"
      ]
     },
     "execution_count": 274,
     "metadata": {},
     "output_type": "execute_result"
    }
   ],
   "source": [
    "df['race'].value_counts() # Number of students belonging to each race"
   ]
  },
  {
   "cell_type": "markdown",
   "id": "d75fe429",
   "metadata": {},
   "source": [
    "The above data shows the proportion of data according to race. Since the total number of students are 1000, it can be seen that the groups A,B,C,D and E have proportion percentages 26,20,39,5 and 10."
   ]
  },
  {
   "cell_type": "code",
   "execution_count": 275,
   "id": "d0547ccf",
   "metadata": {},
   "outputs": [],
   "source": [
    "df_A = df[df['race'] == 'group A'] # dataframe consisting of all students belonging to race group A\n",
    "df_B = df[df['race'] == 'group B'] # dataframe consisting of all students belonging to race group B\n",
    "df_C = df[df['race'] == 'group C'] # dataframe consisting of all students belonging to race group C\n",
    "df_D = df[df['race'] == 'group D'] # dataframe consisting of all students belonging to race group D\n",
    "df_E = df[df['race'] == 'group E'] # dataframe consisting of all students belonging to race group E"
   ]
  },
  {
   "cell_type": "code",
   "execution_count": 276,
   "id": "e8f79fce",
   "metadata": {},
   "outputs": [],
   "source": [
    "# Obtaining random samples for each race\n",
    "df_A = df_A.sample(n=26)\n",
    "df_B = df_B.sample(n=20)\n",
    "df_C = df_C.sample(n=39)\n",
    "df_D = df_D.sample(n=5)\n",
    "df_E = df_E.sample(n=10)"
   ]
  },
  {
   "cell_type": "code",
   "execution_count": 277,
   "id": "f0cebc22",
   "metadata": {},
   "outputs": [],
   "source": [
    "# Appending all samples to one dataframe\n",
    "df_sample2 = df_A\n",
    "df_sample2 = df_sample2.append(df_B)\n",
    "df_sample2 = df_sample2.append(df_C)\n",
    "df_sample2 = df_sample2.append(df_D)\n",
    "df_sample2 = df_sample2.append(df_E)"
   ]
  },
  {
   "cell_type": "code",
   "execution_count": 278,
   "id": "389ada62",
   "metadata": {},
   "outputs": [
    {
     "data": {
      "text/html": [
       "<div>\n",
       "<style scoped>\n",
       "    .dataframe tbody tr th:only-of-type {\n",
       "        vertical-align: middle;\n",
       "    }\n",
       "\n",
       "    .dataframe tbody tr th {\n",
       "        vertical-align: top;\n",
       "    }\n",
       "\n",
       "    .dataframe thead th {\n",
       "        text-align: right;\n",
       "    }\n",
       "</style>\n",
       "<table border=\"1\" class=\"dataframe\">\n",
       "  <thead>\n",
       "    <tr style=\"text-align: right;\">\n",
       "      <th></th>\n",
       "      <th>gender</th>\n",
       "      <th>race</th>\n",
       "      <th>parental level of education</th>\n",
       "      <th>lunch</th>\n",
       "      <th>test preparation course</th>\n",
       "      <th>math score</th>\n",
       "      <th>reading score</th>\n",
       "      <th>writing score</th>\n",
       "      <th>percentage</th>\n",
       "      <th>grade</th>\n",
       "    </tr>\n",
       "  </thead>\n",
       "  <tbody>\n",
       "    <tr>\n",
       "      <th>473</th>\n",
       "      <td>male</td>\n",
       "      <td>group A</td>\n",
       "      <td>associate's degree</td>\n",
       "      <td>standard</td>\n",
       "      <td>completed</td>\n",
       "      <td>101.0</td>\n",
       "      <td>123.0</td>\n",
       "      <td>105.0</td>\n",
       "      <td>73.11</td>\n",
       "      <td>B</td>\n",
       "    </tr>\n",
       "    <tr>\n",
       "      <th>676</th>\n",
       "      <td>male</td>\n",
       "      <td>group A</td>\n",
       "      <td>master's degree</td>\n",
       "      <td>free/reduced</td>\n",
       "      <td>completed</td>\n",
       "      <td>115.0</td>\n",
       "      <td>134.0</td>\n",
       "      <td>120.0</td>\n",
       "      <td>82.00</td>\n",
       "      <td>A</td>\n",
       "    </tr>\n",
       "    <tr>\n",
       "      <th>798</th>\n",
       "      <td>male</td>\n",
       "      <td>group A</td>\n",
       "      <td>associate's degree</td>\n",
       "      <td>standard</td>\n",
       "      <td>completed</td>\n",
       "      <td>111.0</td>\n",
       "      <td>116.0</td>\n",
       "      <td>98.0</td>\n",
       "      <td>72.22</td>\n",
       "      <td>B</td>\n",
       "    </tr>\n",
       "    <tr>\n",
       "      <th>29</th>\n",
       "      <td>male</td>\n",
       "      <td>group A</td>\n",
       "      <td>associate's degree</td>\n",
       "      <td>standard</td>\n",
       "      <td>completed</td>\n",
       "      <td>123.0</td>\n",
       "      <td>126.0</td>\n",
       "      <td>119.0</td>\n",
       "      <td>81.78</td>\n",
       "      <td>A</td>\n",
       "    </tr>\n",
       "    <tr>\n",
       "      <th>203</th>\n",
       "      <td>male</td>\n",
       "      <td>group A</td>\n",
       "      <td>some high school</td>\n",
       "      <td>standard</td>\n",
       "      <td>completed</td>\n",
       "      <td>99.0</td>\n",
       "      <td>98.0</td>\n",
       "      <td>112.0</td>\n",
       "      <td>68.67</td>\n",
       "      <td>C</td>\n",
       "    </tr>\n",
       "    <tr>\n",
       "      <th>...</th>\n",
       "      <td>...</td>\n",
       "      <td>...</td>\n",
       "      <td>...</td>\n",
       "      <td>...</td>\n",
       "      <td>...</td>\n",
       "      <td>...</td>\n",
       "      <td>...</td>\n",
       "      <td>...</td>\n",
       "      <td>...</td>\n",
       "      <td>...</td>\n",
       "    </tr>\n",
       "    <tr>\n",
       "      <th>615</th>\n",
       "      <td>male</td>\n",
       "      <td>group E</td>\n",
       "      <td>high school</td>\n",
       "      <td>standard</td>\n",
       "      <td>completed</td>\n",
       "      <td>102.0</td>\n",
       "      <td>124.0</td>\n",
       "      <td>116.0</td>\n",
       "      <td>76.00</td>\n",
       "      <td>B</td>\n",
       "    </tr>\n",
       "    <tr>\n",
       "      <th>313</th>\n",
       "      <td>male</td>\n",
       "      <td>group E</td>\n",
       "      <td>associate's degree</td>\n",
       "      <td>standard</td>\n",
       "      <td>completed</td>\n",
       "      <td>110.0</td>\n",
       "      <td>123.0</td>\n",
       "      <td>113.0</td>\n",
       "      <td>76.89</td>\n",
       "      <td>B</td>\n",
       "    </tr>\n",
       "    <tr>\n",
       "      <th>687</th>\n",
       "      <td>male</td>\n",
       "      <td>group E</td>\n",
       "      <td>associate's degree</td>\n",
       "      <td>standard</td>\n",
       "      <td>completed</td>\n",
       "      <td>119.0</td>\n",
       "      <td>134.0</td>\n",
       "      <td>117.0</td>\n",
       "      <td>82.22</td>\n",
       "      <td>A</td>\n",
       "    </tr>\n",
       "    <tr>\n",
       "      <th>620</th>\n",
       "      <td>male</td>\n",
       "      <td>group E</td>\n",
       "      <td>associate's degree</td>\n",
       "      <td>standard</td>\n",
       "      <td>completed</td>\n",
       "      <td>77.0</td>\n",
       "      <td>117.0</td>\n",
       "      <td>98.0</td>\n",
       "      <td>64.89</td>\n",
       "      <td>C</td>\n",
       "    </tr>\n",
       "    <tr>\n",
       "      <th>730</th>\n",
       "      <td>male</td>\n",
       "      <td>group E</td>\n",
       "      <td>bachelor's degree</td>\n",
       "      <td>standard</td>\n",
       "      <td>completed</td>\n",
       "      <td>110.0</td>\n",
       "      <td>133.0</td>\n",
       "      <td>124.0</td>\n",
       "      <td>81.56</td>\n",
       "      <td>A</td>\n",
       "    </tr>\n",
       "  </tbody>\n",
       "</table>\n",
       "<p>100 rows × 10 columns</p>\n",
       "</div>"
      ],
      "text/plain": [
       "    gender     race parental level of education         lunch  \\\n",
       "473   male  group A          associate's degree      standard   \n",
       "676   male  group A             master's degree  free/reduced   \n",
       "798   male  group A          associate's degree      standard   \n",
       "29    male  group A          associate's degree      standard   \n",
       "203   male  group A            some high school      standard   \n",
       "..     ...      ...                         ...           ...   \n",
       "615   male  group E                 high school      standard   \n",
       "313   male  group E          associate's degree      standard   \n",
       "687   male  group E          associate's degree      standard   \n",
       "620   male  group E          associate's degree      standard   \n",
       "730   male  group E           bachelor's degree      standard   \n",
       "\n",
       "    test preparation course  math score  reading score  writing score  \\\n",
       "473               completed       101.0          123.0          105.0   \n",
       "676               completed       115.0          134.0          120.0   \n",
       "798               completed       111.0          116.0           98.0   \n",
       "29                completed       123.0          126.0          119.0   \n",
       "203               completed        99.0           98.0          112.0   \n",
       "..                      ...         ...            ...            ...   \n",
       "615               completed       102.0          124.0          116.0   \n",
       "313               completed       110.0          123.0          113.0   \n",
       "687               completed       119.0          134.0          117.0   \n",
       "620               completed        77.0          117.0           98.0   \n",
       "730               completed       110.0          133.0          124.0   \n",
       "\n",
       "     percentage grade  \n",
       "473       73.11     B  \n",
       "676       82.00     A  \n",
       "798       72.22     B  \n",
       "29        81.78     A  \n",
       "203       68.67     C  \n",
       "..          ...   ...  \n",
       "615       76.00     B  \n",
       "313       76.89     B  \n",
       "687       82.22     A  \n",
       "620       64.89     C  \n",
       "730       81.56     A  \n",
       "\n",
       "[100 rows x 10 columns]"
      ]
     },
     "execution_count": 278,
     "metadata": {},
     "output_type": "execute_result"
    }
   ],
   "source": [
    "# Sample b - stratified\n",
    "df_sample2"
   ]
  },
  {
   "cell_type": "markdown",
   "id": "69ddc900",
   "metadata": {},
   "source": [
    "The above dataset has been generated by stratified sampling. The number of records for each race in sample is in proportion to the population. This has been done by first obtaining 5 different dataframes for each race. Then a random sample is collected from each dataframe. These samples are then merged to get a stratified sample. The groups A,B,C,D and E have 26,20,39,5 and 10 records respectively."
   ]
  },
  {
   "cell_type": "code",
   "execution_count": 279,
   "id": "bb7b1f34",
   "metadata": {},
   "outputs": [
    {
     "name": "stdout",
     "output_type": "stream",
     "text": [
      "Population Mean:  107.63\n",
      "\n",
      "Mean for Sample a:  109.39\n",
      "Sampling Error for Sample a:  1.63 %\n",
      "Mean for Sample b:  111.27\n",
      "Sampling Error for Sample b:  3.38 %\n"
     ]
    }
   ],
   "source": [
    "print(\"Population Mean: \",round(df['math score'].mean(),2))\n",
    "print()\n",
    "#Sample 1\n",
    "print(\"Mean for Sample a: \", round(df_sample1['math score'].mean(),2))\n",
    "err = (df_sample1['math score'].mean()- df['math score'].mean())/df['math score'].mean()*100\n",
    "print(\"Sampling Error for Sample a: \", round(err,2),\"%\")\n",
    "#Sample 2\n",
    "print(\"Mean for Sample b: \", round(df_sample2['math score'].mean(),2))\n",
    "err = (df_sample2['math score'].mean()- df['math score'].mean())/df['math score'].mean()*100\n",
    "print(\"Sampling Error for Sample b: \", round(err,2),\"%\")"
   ]
  },
  {
   "cell_type": "markdown",
   "id": "f1857ce5",
   "metadata": {},
   "source": [
    " The sample means for math scores for a and b are 109.39 and 111.27. The mean for population was calculated to be 107.63. The sampling error for a and b are 1.63% and 3.38%. Hence, a is a better sample than b since it has a lower sampling error. "
   ]
  },
  {
   "cell_type": "code",
   "execution_count": 280,
   "id": "5c5eb505",
   "metadata": {},
   "outputs": [
    {
     "data": {
      "text/plain": [
       "<AxesSubplot:xlabel='race'>"
      ]
     },
     "execution_count": 280,
     "metadata": {},
     "output_type": "execute_result"
    },
    {
     "data": {
      "image/png": "[encoded data removed]",
      "text/plain": [
       "<Figure size 432x288 with 1 Axes>"
      ]
     },
     "metadata": {
      "needs_background": "light"
     },
     "output_type": "display_data"
    }
   ],
   "source": [
    "# race distribution for population\n",
    "df.groupby(['race']).size().plot(kind='bar')"
   ]
  },
  {
   "cell_type": "code",
   "execution_count": 281,
   "id": "5982e3ee",
   "metadata": {},
   "outputs": [
    {
     "data": {
      "text/plain": [
       "<AxesSubplot:xlabel='race'>"
      ]
     },
     "execution_count": 281,
     "metadata": {},
     "output_type": "execute_result"
    },
    {
     "data": {
      "image/png": "[encoded data removed]",
      "text/plain": [
       "<Figure size 432x288 with 1 Axes>"
      ]
     },
     "metadata": {
      "needs_background": "light"
     },
     "output_type": "display_data"
    }
   ],
   "source": [
    "# race distribution for sample a\n",
    "df_sample1.groupby(['race']).size().plot(kind='bar')"
   ]
  },
  {
   "cell_type": "code",
   "execution_count": 286,
   "id": "f1a4ee3b",
   "metadata": {},
   "outputs": [
    {
     "data": {
      "text/plain": [
       "<AxesSubplot:xlabel='race'>"
      ]
     },
     "execution_count": 286,
     "metadata": {},
     "output_type": "execute_result"
    },
    {
     "data": {
      "image/png": "[encoded data removed]",
      "text/plain": [
       "<Figure size 432x288 with 1 Axes>"
      ]
     },
     "metadata": {
      "needs_background": "light"
     },
     "output_type": "display_data"
    }
   ],
   "source": [
    "# race distribution for sample b\n",
    "df_sample2.groupby(['race']).size().plot(kind='bar')"
   ]
  },
  {
   "cell_type": "markdown",
   "id": "845c91fe",
   "metadata": {},
   "source": [
    "The above bar charts show the distribution of race in population and samples a and b. It can be seen that the distribution of race is similar in sample b and population and varies slightly in sample a.\n",
    "However, from the data calculated in previous steps sample a has a lower error compared to b and is hence a better sample. It can thus be inferred that race does not play a significant role in student perfomance."
   ]
  },
  {
   "cell_type": "markdown",
   "id": "9423361d",
   "metadata": {},
   "source": [
    "### Task 2"
   ]
  },
  {
   "cell_type": "code",
   "execution_count": 283,
   "id": "60e4943d",
   "metadata": {},
   "outputs": [
    {
     "data": {
      "text/plain": [
       "<AxesSubplot:xlabel='race', ylabel='math score'>"
      ]
     },
     "execution_count": 283,
     "metadata": {},
     "output_type": "execute_result"
    },
    {
     "data": {
      "image/png": "[encoded data removed]",
      "text/plain": [
       "<Figure size 432x288 with 1 Axes>"
      ]
     },
     "metadata": {
      "needs_background": "light"
     },
     "output_type": "display_data"
    }
   ],
   "source": [
    "sns.boxplot(x='race', y='math score', data=df)"
   ]
  },
  {
   "cell_type": "markdown",
   "id": "a943bfa1",
   "metadata": {},
   "source": [
    "The above boxplots show the distribution of data for math score. It is seen that Group A has the highest number of outliers."
   ]
  },
  {
   "cell_type": "code",
   "execution_count": 284,
   "id": "e53fff79",
   "metadata": {},
   "outputs": [
    {
     "data": {
      "text/plain": [
       "<AxesSubplot:xlabel='race', ylabel='reading score'>"
      ]
     },
     "execution_count": 284,
     "metadata": {},
     "output_type": "execute_result"
    },
    {
     "data": {
      "image/png": "[encoded data removed]",
      "text/plain": [
       "<Figure size 432x288 with 1 Axes>"
      ]
     },
     "metadata": {
      "needs_background": "light"
     },
     "output_type": "display_data"
    }
   ],
   "source": [
    "sns.boxplot(x='race', y='reading score', data=df)"
   ]
  },
  {
   "cell_type": "markdown",
   "id": "1a75f3f8",
   "metadata": {},
   "source": [
    "The above boxplots show the distribution of data for reading score. It is seen that Group C has the highest number of outliers. Group A and B also has a lot of outlier values."
   ]
  },
  {
   "cell_type": "code",
   "execution_count": 285,
   "id": "c9542d1b",
   "metadata": {},
   "outputs": [
    {
     "data": {
      "text/plain": [
       "<AxesSubplot:xlabel='race', ylabel='writing score'>"
      ]
     },
     "execution_count": 285,
     "metadata": {},
     "output_type": "execute_result"
    },
    {
     "data": {
      "image/png": "[encoded data removed]",
      "text/plain": [
       "<Figure size 432x288 with 1 Axes>"
      ]
     },
     "metadata": {
      "needs_background": "light"
     },
     "output_type": "display_data"
    }
   ],
   "source": [
    "sns.boxplot(x='race', y='writing score', data=df)"
   ]
  },
  {
   "cell_type": "markdown",
   "id": "627e3d63",
   "metadata": {},
   "source": [
    "The above boxplots show the distribution of data for writing score. It is seen that Group C has the highest number of outliers."
   ]
  }
 ],
 "metadata": {
  "kernelspec": {
   "display_name": "Python 3",
   "language": "python",
   "name": "python3"
  },
  "language_info": {
   "codemirror_mode": {
    "name": "ipython",
    "version": 3
   },
   "file_extension": ".py",
   "mimetype": "text/x-python",
   "name": "python",
   "nbconvert_exporter": "python",
   "pygments_lexer": "ipython3",
   "version": "3.8.8"
  }
 },
 "nbformat": 4,
 "nbformat_minor": 5
}
