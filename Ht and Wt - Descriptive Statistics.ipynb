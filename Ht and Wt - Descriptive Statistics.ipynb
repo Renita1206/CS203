{
 "cells": [
  {
   "cell_type": "code",
   "execution_count": 2,
   "id": "c28c2756",
   "metadata": {},
   "outputs": [],
   "source": [
    "import pandas as pd\n",
    "import numpy as np"
   ]
  },
  {
   "cell_type": "code",
   "execution_count": 3,
   "id": "a50bd00e",
   "metadata": {},
   "outputs": [
    {
     "data": {
      "text/html": [
       "<div>\n",
       "<style scoped>\n",
       "    .dataframe tbody tr th:only-of-type {\n",
       "        vertical-align: middle;\n",
       "    }\n",
       "\n",
       "    .dataframe tbody tr th {\n",
       "        vertical-align: top;\n",
       "    }\n",
       "\n",
       "    .dataframe thead th {\n",
       "        text-align: right;\n",
       "    }\n",
       "</style>\n",
       "<table border=\"1\" class=\"dataframe\">\n",
       "  <thead>\n",
       "    <tr style=\"text-align: right;\">\n",
       "      <th></th>\n",
       "      <th>Height</th>\n",
       "      <th>Weight</th>\n",
       "    </tr>\n",
       "  </thead>\n",
       "  <tbody>\n",
       "    <tr>\n",
       "      <th>0</th>\n",
       "      <td>241.893563</td>\n",
       "      <td>73.847017</td>\n",
       "    </tr>\n",
       "    <tr>\n",
       "      <th>1</th>\n",
       "      <td>162.310473</td>\n",
       "      <td>68.781904</td>\n",
       "    </tr>\n",
       "    <tr>\n",
       "      <th>2</th>\n",
       "      <td>212.740856</td>\n",
       "      <td>74.110105</td>\n",
       "    </tr>\n",
       "    <tr>\n",
       "      <th>3</th>\n",
       "      <td>220.042470</td>\n",
       "      <td>71.730978</td>\n",
       "    </tr>\n",
       "    <tr>\n",
       "      <th>4</th>\n",
       "      <td>206.349801</td>\n",
       "      <td>69.881796</td>\n",
       "    </tr>\n",
       "    <tr>\n",
       "      <th>...</th>\n",
       "      <td>...</td>\n",
       "      <td>...</td>\n",
       "    </tr>\n",
       "    <tr>\n",
       "      <th>494</th>\n",
       "      <td>194.200712</td>\n",
       "      <td>69.606225</td>\n",
       "    </tr>\n",
       "    <tr>\n",
       "      <th>495</th>\n",
       "      <td>194.199509</td>\n",
       "      <td>72.881707</td>\n",
       "    </tr>\n",
       "    <tr>\n",
       "      <th>496</th>\n",
       "      <td>145.898842</td>\n",
       "      <td>62.178331</td>\n",
       "    </tr>\n",
       "    <tr>\n",
       "      <th>497</th>\n",
       "      <td>191.833709</td>\n",
       "      <td>68.874707</td>\n",
       "    </tr>\n",
       "    <tr>\n",
       "      <th>498</th>\n",
       "      <td>209.853554</td>\n",
       "      <td>71.080084</td>\n",
       "    </tr>\n",
       "  </tbody>\n",
       "</table>\n",
       "<p>499 rows × 2 columns</p>\n",
       "</div>"
      ],
      "text/plain": [
       "         Height     Weight\n",
       "0    241.893563  73.847017\n",
       "1    162.310473  68.781904\n",
       "2    212.740856  74.110105\n",
       "3    220.042470  71.730978\n",
       "4    206.349801  69.881796\n",
       "..          ...        ...\n",
       "494  194.200712  69.606225\n",
       "495  194.199509  72.881707\n",
       "496  145.898842  62.178331\n",
       "497  191.833709  68.874707\n",
       "498  209.853554  71.080084\n",
       "\n",
       "[499 rows x 2 columns]"
      ]
     },
     "execution_count": 3,
     "metadata": {},
     "output_type": "execute_result"
    }
   ],
   "source": [
    "df = pd.read_csv(\"HeightWeight.csv\")\n",
    "df"
   ]
  },
  {
   "cell_type": "code",
   "execution_count": 4,
   "id": "7ec89233",
   "metadata": {},
   "outputs": [
    {
     "data": {
      "text/plain": [
       "187.11303826352705"
      ]
     },
     "execution_count": 4,
     "metadata": {},
     "output_type": "execute_result"
    }
   ],
   "source": [
    "df['Height'].mean()"
   ]
  },
  {
   "cell_type": "code",
   "execution_count": 5,
   "id": "b54b34d4",
   "metadata": {},
   "outputs": [
    {
     "data": {
      "text/plain": [
       "186.7803378"
      ]
     },
     "execution_count": 5,
     "metadata": {},
     "output_type": "execute_result"
    }
   ],
   "source": [
    "df['Height'].median()"
   ]
  },
  {
   "cell_type": "code",
   "execution_count": 6,
   "id": "e13ac8ea",
   "metadata": {},
   "outputs": [
    {
     "data": {
      "text/plain": [
       "373.0486586842005"
      ]
     },
     "execution_count": 6,
     "metadata": {},
     "output_type": "execute_result"
    }
   ],
   "source": [
    "df.Height.var()"
   ]
  },
  {
   "cell_type": "code",
   "execution_count": 7,
   "id": "4b2a69c4",
   "metadata": {},
   "outputs": [
    {
     "data": {
      "text/plain": [
       "19.314467600330083"
      ]
     },
     "execution_count": 7,
     "metadata": {},
     "output_type": "execute_result"
    }
   ],
   "source": [
    "df.Height.std()"
   ]
  },
  {
   "cell_type": "code",
   "execution_count": 8,
   "id": "b406e375",
   "metadata": {},
   "outputs": [
    {
     "data": {
      "text/plain": [
       "173.0135165"
      ]
     },
     "execution_count": 8,
     "metadata": {},
     "output_type": "execute_result"
    }
   ],
   "source": [
    "np.percentile(df['Height'], 25)"
   ]
  },
  {
   "cell_type": "code",
   "execution_count": 9,
   "id": "c3fb83d3",
   "metadata": {},
   "outputs": [
    {
     "data": {
      "text/html": [
       "<div>\n",
       "<style scoped>\n",
       "    .dataframe tbody tr th:only-of-type {\n",
       "        vertical-align: middle;\n",
       "    }\n",
       "\n",
       "    .dataframe tbody tr th {\n",
       "        vertical-align: top;\n",
       "    }\n",
       "\n",
       "    .dataframe thead th {\n",
       "        text-align: right;\n",
       "    }\n",
       "</style>\n",
       "<table border=\"1\" class=\"dataframe\">\n",
       "  <thead>\n",
       "    <tr style=\"text-align: right;\">\n",
       "      <th></th>\n",
       "      <th>Height</th>\n",
       "      <th>Weight</th>\n",
       "    </tr>\n",
       "  </thead>\n",
       "  <tbody>\n",
       "    <tr>\n",
       "      <th>count</th>\n",
       "      <td>499.000000</td>\n",
       "      <td>499.000000</td>\n",
       "    </tr>\n",
       "    <tr>\n",
       "      <th>mean</th>\n",
       "      <td>187.113038</td>\n",
       "      <td>68.865948</td>\n",
       "    </tr>\n",
       "    <tr>\n",
       "      <th>std</th>\n",
       "      <td>19.314468</td>\n",
       "      <td>2.701260</td>\n",
       "    </tr>\n",
       "    <tr>\n",
       "      <th>min</th>\n",
       "      <td>135.655876</td>\n",
       "      <td>60.748118</td>\n",
       "    </tr>\n",
       "    <tr>\n",
       "      <th>25%</th>\n",
       "      <td>173.013517</td>\n",
       "      <td>67.116512</td>\n",
       "    </tr>\n",
       "    <tr>\n",
       "      <th>50%</th>\n",
       "      <td>186.780338</td>\n",
       "      <td>68.766162</td>\n",
       "    </tr>\n",
       "    <tr>\n",
       "      <th>75%</th>\n",
       "      <td>199.917405</td>\n",
       "      <td>70.918840</td>\n",
       "    </tr>\n",
       "    <tr>\n",
       "      <th>max</th>\n",
       "      <td>241.893563</td>\n",
       "      <td>76.709835</td>\n",
       "    </tr>\n",
       "  </tbody>\n",
       "</table>\n",
       "</div>"
      ],
      "text/plain": [
       "           Height      Weight\n",
       "count  499.000000  499.000000\n",
       "mean   187.113038   68.865948\n",
       "std     19.314468    2.701260\n",
       "min    135.655876   60.748118\n",
       "25%    173.013517   67.116512\n",
       "50%    186.780338   68.766162\n",
       "75%    199.917405   70.918840\n",
       "max    241.893563   76.709835"
      ]
     },
     "execution_count": 9,
     "metadata": {},
     "output_type": "execute_result"
    }
   ],
   "source": [
    "df.describe()"
   ]
  },
  {
   "cell_type": "code",
   "execution_count": 10,
   "id": "da79782e",
   "metadata": {},
   "outputs": [],
   "source": [
    "from scipy import stats"
   ]
  },
  {
   "cell_type": "code",
   "execution_count": 11,
   "id": "0f67477f",
   "metadata": {},
   "outputs": [
    {
     "data": {
      "text/plain": [
       "array([163.3095283, 163.3573315, 163.6040022, 163.8204889, 163.8518249,\n",
       "       164.0144277, 164.2952413, 164.1459224, 164.4391456, 165.4045453,\n",
       "       165.1558987, 164.9745807, 165.4312422, 165.6116262, 164.943303 ,\n",
       "       165.5146074, 165.8506478, 164.6602773, 165.5684991, 165.7171122,\n",
       "       166.096744 , 167.2975303, 169.5448054, 172.9857771, 166.7073731,\n",
       "       174.4894863, 170.4172312, 169.1094014, 173.6915922, 168.0904122,\n",
       "       168.64081  , 172.1527722, 172.6640904, 169.063983 , 173.0412559,\n",
       "       171.0169406, 172.6064826, 173.3103956, 166.9610205, 174.1096938,\n",
       "       168.2802869, 172.8398091, 171.5878843, 166.8215473, 174.1159291,\n",
       "       169.7377074, 173.4239603, 170.1005633, 169.0810083, 172.7737229,\n",
       "       173.4598918, 174.6520347, 167.7397753, 172.8834702, 173.2706572,\n",
       "       166.969204 , 172.575231 , 172.1869301, 166.5035316, 171.9836776,\n",
       "       174.3641824, 173.5957961, 174.4852947, 166.1060724, 166.5011147,\n",
       "       170.1913254, 167.7004962, 170.5938581, 166.5836105, 170.4136025,\n",
       "       168.6177462, 167.0287067, 172.1355974, 175.2139224, 167.1274611,\n",
       "       168.0140297, 169.7877681, 170.3523296, 172.114312 , 170.3054935,\n",
       "       171.6931597, 168.6272639, 173.7075042, 169.8274774, 168.1748644,\n",
       "       167.9711105, 170.2501787, 174.1578043, 169.6540541, 167.7471412,\n",
       "       170.1758538, 169.5568208, 173.4316727, 174.6556973, 173.284033 ,\n",
       "       175.2195188, 183.7598452, 201.9544955, 205.9779102, 183.5089329,\n",
       "       189.3844383, 178.6183502, 180.8895546, 195.937015 , 183.0446604,\n",
       "       179.8789771, 198.3786936, 179.9077169, 178.2818007, 176.9842511,\n",
       "       185.4677884, 177.4938023, 185.6627413, 198.5816982, 203.3503393,\n",
       "       193.2176727, 178.1349452, 191.6996048, 187.5516495, 196.4677247,\n",
       "       201.8370426, 179.868026 , 205.3897607, 201.8839987, 200.4373105,\n",
       "       178.588954 , 192.9102666, 177.7664258, 193.277624 , 180.468682 ,\n",
       "       183.3838244, 181.0560953, 188.041029 , 196.1455062, 196.1484498,\n",
       "       202.0464252, 178.1705556, 201.9480853, 193.3869846, 179.8556896,\n",
       "       189.3917856, 185.5242604, 176.8430799, 203.895655 , 201.7607769,\n",
       "       177.4825249, 208.4748659, 180.77978  , 176.1412392, 202.9583063,\n",
       "       188.2714563, 196.0615292, 175.9834911, 192.3497017, 202.2790697,\n",
       "       178.6855465, 204.9270121, 176.1726343, 201.4879624, 193.9064988,\n",
       "       186.9916067, 187.7453519, 193.3465603, 208.436509 , 206.0329778,\n",
       "       179.2047821, 193.7549909, 177.2401455, 175.6466902, 207.2504768,\n",
       "       183.938857 , 196.4144153, 177.9847286, 176.5658186, 200.8187373,\n",
       "       195.2375293, 205.6844384, 177.4706162, 180.683887 , 193.0941635,\n",
       "       178.797509 , 177.5492634, 201.5281774, 182.122486 , 195.3926176,\n",
       "       176.6361636, 198.4602486, 185.71691  , 177.3477798, 199.6353266,\n",
       "       187.0224203, 181.0119732, 201.6206667, 197.3685892, 193.4351185,\n",
       "       190.0234342, 208.345694 , 188.6029191, 201.3320069, 190.6860225,\n",
       "       198.6586733, 181.432713 , 199.827758 , 196.4498603, 197.8196148,\n",
       "       196.892315 , 180.2217801, 189.1340124, 200.9205712, 208.9226827,\n",
       "       187.1411195, 204.6554938, 181.644445 , 204.7466782, 195.1987301,\n",
       "       186.2584296, 181.0938696, 198.9209797, 203.3704632, 177.2009288,\n",
       "       189.8066818, 200.2028285, 204.2728377, 207.9255765, 201.7014216,\n",
       "       187.1870936, 196.5274669, 207.5328385, 184.5956083, 198.843696 ,\n",
       "       178.789548 , 193.5392521, 197.737905 , 184.4618115, 196.4513123,\n",
       "       183.3126553, 189.0844617, 183.7833827, 195.8952569, 208.8950443,\n",
       "       184.5193912, 183.1973068, 184.2792458, 199.9838909, 191.4122311,\n",
       "       179.8639023, 194.7445225, 183.2665331, 205.1334355, 198.0424839,\n",
       "       195.2906122, 197.0708562, 190.50581  , 184.5554831, 179.9298166,\n",
       "       198.0795237, 197.8845071, 198.7597927, 187.907426 , 176.8616842,\n",
       "       185.1482021, 208.3614918, 206.9429818, 209.5264998, 175.222848 ,\n",
       "       198.1984641, 181.1259735, 202.6090083, 199.85092  , 188.5061787,\n",
       "       186.7379955, 192.1248473, 200.798983 , 208.8097753, 189.7102099,\n",
       "       207.8359446, 180.8312378, 176.8154762, 194.6037685, 181.4076793,\n",
       "       201.0719181, 192.7618857, 176.7318925, 185.0423241, 187.9653554,\n",
       "       188.1811248, 179.5420171, 204.8274497, 197.6921421, 186.287992 ,\n",
       "       188.1035061, 188.81177  , 192.0143354, 193.4762588, 189.2822461,\n",
       "       207.7849246, 199.3230943, 177.1191607, 180.1754728, 196.2144145,\n",
       "       189.4388404, 209.0708634, 182.3943347, 189.5576375, 189.6259141,\n",
       "       187.0605522, 193.7563258, 177.0677744, 196.0511888, 188.9223032,\n",
       "       179.6078701, 194.0454049, 183.8109732, 197.4882426, 183.681029 ,\n",
       "       192.9035151, 204.1641255, 209.6379745, 195.346027 , 194.3226014,\n",
       "       205.1836213, 205.1617483, 178.8826337, 181.7249315, 203.5603338,\n",
       "       195.0322432, 197.9314296, 176.1934298, 183.9477889, 187.5068432,\n",
       "       206.8281894, 184.4351744, 193.9551074, 189.8933425, 184.223932 ,\n",
       "       190.7955422, 188.2006794, 192.3439766, 197.8793731, 190.5134869,\n",
       "       176.2465834, 177.7270945, 194.2007119, 197.7314216, 182.426648 ,\n",
       "       185.9839576, 184.9366903, 194.2869459, 196.0285063, 192.4707696,\n",
       "       179.750808 , 202.863293 , 186.434168 , 197.1984016, 183.1612325,\n",
       "       189.4461814, 205.2508892, 189.7030888, 175.6791902, 203.139433 ,\n",
       "       194.1995089, 196.2938059, 179.9370112, 186.6049256, 175.9294404,\n",
       "       189.7425419, 195.1703915, 190.4679588, 204.4265983, 196.1516228,\n",
       "       209.6707739, 190.9334005, 197.9448324, 186.7803378, 188.6638321,\n",
       "       176.3766428, 209.3294834, 183.9278886, 190.9351825, 191.4456543,\n",
       "       184.9382299, 206.3498006, 201.778854 , 188.3288071, 191.8337092,\n",
       "       183.9433388, 187.517442 , 185.7721575, 209.8535536, 209.9293234,\n",
       "       210.3699087, 210.6638278, 210.134529 , 209.8582566, 210.4636875,\n",
       "       210.3364247, 210.871799 , 211.2160809, 211.3424968, 211.718429 ,\n",
       "       212.6261023])"
      ]
     },
     "execution_count": 11,
     "metadata": {},
     "output_type": "execute_result"
    }
   ],
   "source": [
    "#trims out first and last few values according to proportiontocut parameter \n",
    "# 0.1 -> 10%\n",
    "stats.trimboth(df.Height, proportiontocut=0.1)"
   ]
  },
  {
   "cell_type": "code",
   "execution_count": 12,
   "id": "2d138c2d",
   "metadata": {},
   "outputs": [
    {
     "data": {
      "text/plain": [
       "186.66792720972566"
      ]
     },
     "execution_count": 12,
     "metadata": {},
     "output_type": "execute_result"
    }
   ],
   "source": [
    "#trimmed mean\n",
    "stats.trim_mean(df.Height, proportiontocut=0.1)"
   ]
  },
  {
   "cell_type": "code",
   "execution_count": 13,
   "id": "e4c9208d",
   "metadata": {},
   "outputs": [],
   "source": [
    "import seaborn as sns\n",
    "import matplotlib.pyplot as plt"
   ]
  },
  {
   "cell_type": "code",
   "execution_count": 14,
   "id": "f83b7264",
   "metadata": {},
   "outputs": [
    {
     "data": {
      "image/png": "[encoded data removed]",
      "text/plain": [
       "<Figure size 432x288 with 1 Axes>"
      ]
     },
     "metadata": {
      "needs_background": "light"
     },
     "output_type": "display_data"
    }
   ],
   "source": [
    "plt.boxplot(df.Height);"
   ]
  },
  {
   "cell_type": "code",
   "execution_count": 15,
   "id": "2a4797bd",
   "metadata": {},
   "outputs": [
    {
     "data": {
      "image/png": "[encoded data removed]",
      "text/plain": [
       "<Figure size 432x288 with 1 Axes>"
      ]
     },
     "metadata": {
      "needs_background": "light"
     },
     "output_type": "display_data"
    }
   ],
   "source": [
    "sns.boxplot(data=df.Height);"
   ]
  },
  {
   "cell_type": "code",
   "execution_count": 16,
   "id": "e15ab477",
   "metadata": {},
   "outputs": [
    {
     "data": {
      "image/png": "[encoded data removed]",
      "text/plain": [
       "<Figure size 432x288 with 1 Axes>"
      ]
     },
     "metadata": {
      "needs_background": "light"
     },
     "output_type": "display_data"
    }
   ],
   "source": [
    "plt.hist(df.Height);"
   ]
  },
  {
   "cell_type": "code",
   "execution_count": null,
   "id": "b9fa8a61",
   "metadata": {},
   "outputs": [],
   "source": []
  }
 ],
 "metadata": {
  "kernelspec": {
   "display_name": "Python 3",
   "language": "python",
   "name": "python3"
  },
  "language_info": {
   "codemirror_mode": {
    "name": "ipython",
    "version": 3
   },
   "file_extension": ".py",
   "mimetype": "text/x-python",
   "name": "python",
   "nbconvert_exporter": "python",
   "pygments_lexer": "ipython3",
   "version": "3.8.8"
  }
 },
 "nbformat": 4,
 "nbformat_minor": 5
}
