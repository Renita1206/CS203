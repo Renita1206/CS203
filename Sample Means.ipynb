{
 "cells": [
  {
   "cell_type": "code",
   "execution_count": 1,
   "id": "d54eecd7",
   "metadata": {},
   "outputs": [],
   "source": [
    "import pandas as pd\n",
    "import numpy as np\n",
    "import seaborn as sns\n",
    "import matplotlib.pyplot as plt\n",
    "import scipy.stats as stats\n",
    "import random"
   ]
  },
  {
   "cell_type": "code",
   "execution_count": 2,
   "id": "27c8c7b4",
   "metadata": {},
   "outputs": [],
   "source": [
    "df = pd.read_csv(\"height-weight.csv\")"
   ]
  },
  {
   "cell_type": "code",
   "execution_count": 3,
   "id": "e8fb0a9f",
   "metadata": {},
   "outputs": [
    {
     "data": {
      "text/html": [
       "<div>\n",
       "<style scoped>\n",
       "    .dataframe tbody tr th:only-of-type {\n",
       "        vertical-align: middle;\n",
       "    }\n",
       "\n",
       "    .dataframe tbody tr th {\n",
       "        vertical-align: top;\n",
       "    }\n",
       "\n",
       "    .dataframe thead th {\n",
       "        text-align: right;\n",
       "    }\n",
       "</style>\n",
       "<table border=\"1\" class=\"dataframe\">\n",
       "  <thead>\n",
       "    <tr style=\"text-align: right;\">\n",
       "      <th></th>\n",
       "      <th>height</th>\n",
       "      <th>weight</th>\n",
       "    </tr>\n",
       "  </thead>\n",
       "  <tbody>\n",
       "    <tr>\n",
       "      <th>0</th>\n",
       "      <td>65.78331</td>\n",
       "      <td>112.9925</td>\n",
       "    </tr>\n",
       "    <tr>\n",
       "      <th>1</th>\n",
       "      <td>71.51521</td>\n",
       "      <td>136.4873</td>\n",
       "    </tr>\n",
       "    <tr>\n",
       "      <th>2</th>\n",
       "      <td>69.39874</td>\n",
       "      <td>153.0269</td>\n",
       "    </tr>\n",
       "    <tr>\n",
       "      <th>3</th>\n",
       "      <td>68.21660</td>\n",
       "      <td>142.3354</td>\n",
       "    </tr>\n",
       "    <tr>\n",
       "      <th>4</th>\n",
       "      <td>67.78781</td>\n",
       "      <td>144.2971</td>\n",
       "    </tr>\n",
       "    <tr>\n",
       "      <th>5</th>\n",
       "      <td>68.69784</td>\n",
       "      <td>123.3024</td>\n",
       "    </tr>\n",
       "    <tr>\n",
       "      <th>6</th>\n",
       "      <td>69.80204</td>\n",
       "      <td>141.4947</td>\n",
       "    </tr>\n",
       "    <tr>\n",
       "      <th>7</th>\n",
       "      <td>70.01472</td>\n",
       "      <td>136.4623</td>\n",
       "    </tr>\n",
       "    <tr>\n",
       "      <th>8</th>\n",
       "      <td>67.90265</td>\n",
       "      <td>112.3723</td>\n",
       "    </tr>\n",
       "    <tr>\n",
       "      <th>9</th>\n",
       "      <td>66.78236</td>\n",
       "      <td>120.6672</td>\n",
       "    </tr>\n",
       "  </tbody>\n",
       "</table>\n",
       "</div>"
      ],
      "text/plain": [
       "     height    weight\n",
       "0  65.78331  112.9925\n",
       "1  71.51521  136.4873\n",
       "2  69.39874  153.0269\n",
       "3  68.21660  142.3354\n",
       "4  67.78781  144.2971\n",
       "5  68.69784  123.3024\n",
       "6  69.80204  141.4947\n",
       "7  70.01472  136.4623\n",
       "8  67.90265  112.3723\n",
       "9  66.78236  120.6672"
      ]
     },
     "execution_count": 3,
     "metadata": {},
     "output_type": "execute_result"
    }
   ],
   "source": [
    "df.head(10)"
   ]
  },
  {
   "cell_type": "code",
   "execution_count": 4,
   "id": "49f8ab21",
   "metadata": {},
   "outputs": [
    {
     "name": "stderr",
     "output_type": "stream",
     "text": [
      "C:\\Anaconda\\lib\\site-packages\\seaborn\\distributions.py:2557: FutureWarning: `distplot` is a deprecated function and will be removed in a future version. Please adapt your code to use either `displot` (a figure-level function with similar flexibility) or `histplot` (an axes-level function for histograms).\n",
      "  warnings.warn(msg, FutureWarning)\n"
     ]
    },
    {
     "data": {
      "text/plain": [
       "<AxesSubplot:xlabel='height', ylabel='Density'>"
      ]
     },
     "execution_count": 4,
     "metadata": {},
     "output_type": "execute_result"
    },
    {
     "data": {
      "image/png": "[encoded data removed]",
      "text/plain": [
       "<Figure size 432x288 with 1 Axes>"
      ]
     },
     "metadata": {
      "needs_background": "light"
     },
     "output_type": "display_data"
    }
   ],
   "source": [
    "sns.distplot(df.height)"
   ]
  },
  {
   "cell_type": "code",
   "execution_count": 5,
   "id": "d1fca37a",
   "metadata": {},
   "outputs": [
    {
     "data": {
      "text/plain": [
       "1.901678771205604"
      ]
     },
     "execution_count": 5,
     "metadata": {},
     "output_type": "execute_result"
    }
   ],
   "source": [
    "ht_std=df.height.std()\n",
    "ht_std"
   ]
  },
  {
   "cell_type": "code",
   "execution_count": 6,
   "id": "b1043e2f",
   "metadata": {},
   "outputs": [
    {
     "data": {
      "text/plain": [
       "67.99311359679979"
      ]
     },
     "execution_count": 6,
     "metadata": {},
     "output_type": "execute_result"
    }
   ],
   "source": [
    "ht_mean = df.height.mean()\n",
    "ht_mean"
   ]
  },
  {
   "cell_type": "code",
   "execution_count": 7,
   "id": "47c5de5a",
   "metadata": {},
   "outputs": [
    {
     "name": "stderr",
     "output_type": "stream",
     "text": [
      "C:\\Anaconda\\lib\\site-packages\\seaborn\\distributions.py:2557: FutureWarning: `distplot` is a deprecated function and will be removed in a future version. Please adapt your code to use either `displot` (a figure-level function with similar flexibility) or `histplot` (an axes-level function for histograms).\n",
      "  warnings.warn(msg, FutureWarning)\n"
     ]
    },
    {
     "data": {
      "text/plain": [
       "<AxesSubplot:ylabel='Density'>"
      ]
     },
     "execution_count": 7,
     "metadata": {},
     "output_type": "execute_result"
    },
    {
     "data": {
      "image/png": "[encoded data removed]",
      "text/plain": [
       "<Figure size 432x288 with 1 Axes>"
      ]
     },
     "metadata": {
      "needs_background": "light"
     },
     "output_type": "display_data"
    }
   ],
   "source": [
    "sample_means = []\n",
    "n=25\n",
    "for sample in range(0,300):\n",
    "    sample_values = np.random.choice(a=df.height, size=n)\n",
    "    sample_mean = np.mean(sample_values)\n",
    "    sample_means.append(sample_mean)\n",
    "    \n",
    "sns.distplot(sample_means)"
   ]
  },
  {
   "cell_type": "code",
   "execution_count": 8,
   "id": "a289477d",
   "metadata": {},
   "outputs": [
    {
     "data": {
      "text/plain": [
       "68.008028896"
      ]
     },
     "execution_count": 8,
     "metadata": {},
     "output_type": "execute_result"
    }
   ],
   "source": [
    "mean_of_samples = np.mean(sample_means)\n",
    "mean_of_samples"
   ]
  },
  {
   "cell_type": "code",
   "execution_count": 9,
   "id": "b13cbd38",
   "metadata": {},
   "outputs": [
    {
     "data": {
      "text/plain": [
       "0.3750744357861273"
      ]
     },
     "execution_count": 9,
     "metadata": {},
     "output_type": "execute_result"
    }
   ],
   "source": [
    "std_of_samples = np.std(sample_means)\n",
    "std_of_samples"
   ]
  },
  {
   "cell_type": "code",
   "execution_count": 10,
   "id": "10329c4b",
   "metadata": {},
   "outputs": [
    {
     "data": {
      "text/plain": [
       "0.3803357542411208"
      ]
     },
     "execution_count": 10,
     "metadata": {},
     "output_type": "execute_result"
    }
   ],
   "source": [
    "std_err = ht_std/np.sqrt(n)\n",
    "std_err"
   ]
  },
  {
   "cell_type": "code",
   "execution_count": 28,
   "id": "69e4086e",
   "metadata": {},
   "outputs": [],
   "source": [
    "%matplotlib inline\n",
    "from scipy.stats import binom, norm\n",
    "from math import sqrt\n",
    "\n",
    "def bin(n,p,a,b,x1,x2):\n",
    "    z=np.arange(a,b,1/20)\n",
    "    x=np.arange(a,b,1)\n",
    "    plt.figure(figsize=(8,4))\n",
    "    plt.bar(range(a,b), binom.pmf(x,n,p), width=1, fill=False)\n",
    "    plt.plot(z, norm.pdf(z,n*p,sqrt(n*p*(1-p))), color='b')\n",
    "    plt.xticks(range(a,b), rotation=45)\n",
    "    section = np.arange(x1,x2)\n",
    "    plt.fill_between(section, binom.pmf(section,n,p), color='orange')\n",
    "    plt.show()"
   ]
  },
  {
   "cell_type": "code",
   "execution_count": 29,
   "id": "e2401bef",
   "metadata": {},
   "outputs": [
    {
     "name": "stdout",
     "output_type": "stream",
     "text": [
      "Using X~Bin(100),P\n",
      "0.7287469759261658\n",
      "Using X~N(50,25),P\n",
      "0.6826894921370859\n",
      "Applying continuity correction\n",
      "0.7286678781072347\n"
     ]
    }
   ],
   "source": [
    "# X ~Bin(100,0.5)\n",
    "# X ~N(50,25)\n",
    "# P(45<=X<55)\n",
    "print(\"Using X~Bin(100),P\")\n",
    "print(binom.cdf(55,100,0.5)-binom.cdf(44,100,0.5))\n",
    "print(\"Using X~N(50,25),P\")\n",
    "print(norm.cdf(55,50,5)-norm.cdf(45,50,5))\n",
    "print(\"Applying continuity correction\")\n",
    "print(norm.cdf(55.5,50,5)-norm.cdf(44.5,50,5))"
   ]
  },
  {
   "cell_type": "code",
   "execution_count": 36,
   "id": "a8aa0c14",
   "metadata": {},
   "outputs": [
    {
     "data": {
      "image/png": "[encoded data removed]",
      "text/plain": [
       "<Figure size 576x288 with 1 Axes>"
      ]
     },
     "metadata": {
      "needs_background": "light"
     },
     "output_type": "display_data"
    }
   ],
   "source": [
    "bin(100,0.5,45,55,25,55)"
   ]
  },
  {
   "cell_type": "code",
   "execution_count": 31,
   "id": "68a6e917",
   "metadata": {},
   "outputs": [
    {
     "name": "stdout",
     "output_type": "stream",
     "text": [
      "0.02844396682049044\n",
      "0.022750131948179195\n",
      "0.028716559816001803\n"
     ]
    }
   ],
   "source": [
    "print(1-binom.cdf(59,100,0.5))\n",
    "print(norm.sf(60,50,5))\n",
    "print(norm.sf(59.5,50,5))"
   ]
  },
  {
   "cell_type": "code",
   "execution_count": 32,
   "id": "b34603c7",
   "metadata": {},
   "outputs": [
    {
     "data": {
      "image/png": "[encoded data removed]",
      "text/plain": [
       "<Figure size 576x288 with 1 Axes>"
      ]
     },
     "metadata": {
      "needs_background": "light"
     },
     "output_type": "display_data"
    }
   ],
   "source": [
    "bin(100,0.5,33,68,60,68)"
   ]
  },
  {
   "cell_type": "code",
   "execution_count": null,
   "id": "de8933f2",
   "metadata": {},
   "outputs": [],
   "source": []
  }
 ],
 "metadata": {
  "kernelspec": {
   "display_name": "Python 3",
   "language": "python",
   "name": "python3"
  },
  "language_info": {
   "codemirror_mode": {
    "name": "ipython",
    "version": 3
   },
   "file_extension": ".py",
   "mimetype": "text/x-python",
   "name": "python",
   "nbconvert_exporter": "python",
   "pygments_lexer": "ipython3",
   "version": "3.8.8"
  }
 },
 "nbformat": 4,
 "nbformat_minor": 5
}
