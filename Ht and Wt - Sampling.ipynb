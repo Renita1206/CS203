{
 "cells": [
  {
   "cell_type": "code",
   "execution_count": 2,
   "id": "3cde3c21",
   "metadata": {},
   "outputs": [],
   "source": [
    "import matplotlib.pyplot as plt\n",
    "import seaborn as sns\n",
    "import numpy as np\n",
    "import pandas as pd"
   ]
  },
  {
   "cell_type": "code",
   "execution_count": 3,
   "id": "33896c64",
   "metadata": {},
   "outputs": [],
   "source": [
    "df = pd.read_csv(\"HeightWeight.csv\")"
   ]
  },
  {
   "cell_type": "code",
   "execution_count": 4,
   "id": "b41de142",
   "metadata": {},
   "outputs": [
    {
     "data": {
      "text/html": [
       "<div>\n",
       "<style scoped>\n",
       "    .dataframe tbody tr th:only-of-type {\n",
       "        vertical-align: middle;\n",
       "    }\n",
       "\n",
       "    .dataframe tbody tr th {\n",
       "        vertical-align: top;\n",
       "    }\n",
       "\n",
       "    .dataframe thead th {\n",
       "        text-align: right;\n",
       "    }\n",
       "</style>\n",
       "<table border=\"1\" class=\"dataframe\">\n",
       "  <thead>\n",
       "    <tr style=\"text-align: right;\">\n",
       "      <th></th>\n",
       "      <th>Height</th>\n",
       "      <th>Weight</th>\n",
       "    </tr>\n",
       "  </thead>\n",
       "  <tbody>\n",
       "    <tr>\n",
       "      <th>0</th>\n",
       "      <td>241.893563</td>\n",
       "      <td>73.847017</td>\n",
       "    </tr>\n",
       "    <tr>\n",
       "      <th>1</th>\n",
       "      <td>162.310473</td>\n",
       "      <td>68.781904</td>\n",
       "    </tr>\n",
       "    <tr>\n",
       "      <th>2</th>\n",
       "      <td>212.740856</td>\n",
       "      <td>74.110105</td>\n",
       "    </tr>\n",
       "    <tr>\n",
       "      <th>3</th>\n",
       "      <td>220.042470</td>\n",
       "      <td>71.730978</td>\n",
       "    </tr>\n",
       "    <tr>\n",
       "      <th>4</th>\n",
       "      <td>206.349801</td>\n",
       "      <td>69.881796</td>\n",
       "    </tr>\n",
       "  </tbody>\n",
       "</table>\n",
       "</div>"
      ],
      "text/plain": [
       "       Height     Weight\n",
       "0  241.893563  73.847017\n",
       "1  162.310473  68.781904\n",
       "2  212.740856  74.110105\n",
       "3  220.042470  71.730978\n",
       "4  206.349801  69.881796"
      ]
     },
     "execution_count": 4,
     "metadata": {},
     "output_type": "execute_result"
    }
   ],
   "source": [
    "df.head()"
   ]
  },
  {
   "cell_type": "code",
   "execution_count": 16,
   "id": "24a32128",
   "metadata": {},
   "outputs": [
    {
     "data": {
      "text/html": [
       "<div>\n",
       "<style scoped>\n",
       "    .dataframe tbody tr th:only-of-type {\n",
       "        vertical-align: middle;\n",
       "    }\n",
       "\n",
       "    .dataframe tbody tr th {\n",
       "        vertical-align: top;\n",
       "    }\n",
       "\n",
       "    .dataframe thead th {\n",
       "        text-align: right;\n",
       "    }\n",
       "</style>\n",
       "<table border=\"1\" class=\"dataframe\">\n",
       "  <thead>\n",
       "    <tr style=\"text-align: right;\">\n",
       "      <th></th>\n",
       "      <th>Height</th>\n",
       "      <th>Weight</th>\n",
       "    </tr>\n",
       "  </thead>\n",
       "  <tbody>\n",
       "    <tr>\n",
       "      <th>count</th>\n",
       "      <td>499.000000</td>\n",
       "      <td>499.000000</td>\n",
       "    </tr>\n",
       "    <tr>\n",
       "      <th>mean</th>\n",
       "      <td>187.113038</td>\n",
       "      <td>68.865948</td>\n",
       "    </tr>\n",
       "    <tr>\n",
       "      <th>std</th>\n",
       "      <td>19.314468</td>\n",
       "      <td>2.701260</td>\n",
       "    </tr>\n",
       "    <tr>\n",
       "      <th>min</th>\n",
       "      <td>135.655876</td>\n",
       "      <td>60.748118</td>\n",
       "    </tr>\n",
       "    <tr>\n",
       "      <th>25%</th>\n",
       "      <td>173.013517</td>\n",
       "      <td>67.116512</td>\n",
       "    </tr>\n",
       "    <tr>\n",
       "      <th>50%</th>\n",
       "      <td>186.780338</td>\n",
       "      <td>68.766162</td>\n",
       "    </tr>\n",
       "    <tr>\n",
       "      <th>75%</th>\n",
       "      <td>199.917405</td>\n",
       "      <td>70.918840</td>\n",
       "    </tr>\n",
       "    <tr>\n",
       "      <th>max</th>\n",
       "      <td>241.893563</td>\n",
       "      <td>76.709835</td>\n",
       "    </tr>\n",
       "  </tbody>\n",
       "</table>\n",
       "</div>"
      ],
      "text/plain": [
       "           Height      Weight\n",
       "count  499.000000  499.000000\n",
       "mean   187.113038   68.865948\n",
       "std     19.314468    2.701260\n",
       "min    135.655876   60.748118\n",
       "25%    173.013517   67.116512\n",
       "50%    186.780338   68.766162\n",
       "75%    199.917405   70.918840\n",
       "max    241.893563   76.709835"
      ]
     },
     "execution_count": 16,
     "metadata": {},
     "output_type": "execute_result"
    }
   ],
   "source": [
    "df.describe()"
   ]
  },
  {
   "cell_type": "code",
   "execution_count": 19,
   "id": "723337a8",
   "metadata": {},
   "outputs": [],
   "source": [
    "import math\n",
    "pop_wt = np.mean(df.Weight)"
   ]
  },
  {
   "cell_type": "code",
   "execution_count": 27,
   "id": "fa5346c4",
   "metadata": {},
   "outputs": [],
   "source": [
    "def samp_dist(sample_size, no_of_samples):\n",
    "    wt = []\n",
    "    for i in range(no_of_samples):\n",
    "        sample = df.Weight.sample(sample_size)\n",
    "        wt.append(np.mean(sample))\n",
    "    plt.hist(wt) #Sampling Dist of Sample means\n",
    "    #plt.show()\n",
    "    print('Avg of all sample means :', np.mean(wt))\n",
    "    print('Uncertainity in the estimate : ', np.std(wt))"
   ]
  },
  {
   "cell_type": "code",
   "execution_count": 38,
   "id": "157d8521",
   "metadata": {},
   "outputs": [
    {
     "name": "stdout",
     "output_type": "stream",
     "text": [
      "Expected Uncertainity :  0.08533570507429422\n",
      "Avg of all sample means : 68.8735961236704\n",
      "Uncertainity in the estimate :  0.35908739430919284\n",
      "Avg of all sample means : 68.87126565533912\n",
      "Uncertainity in the estimate :  0.22511360755115883\n",
      "Avg of all sample means : 68.8671678161943\n",
      "Uncertainity in the estimate :  0.09768699822861775\n"
     ]
    },
    {
     "data": {
      "image/png": "[encoded data removed]",
      "text/plain": [
       "<Figure size 432x288 with 1 Axes>"
      ]
     },
     "metadata": {
      "needs_background": "light"
     },
     "output_type": "display_data"
    }
   ],
   "source": [
    "pop_std = np.std(df.Weight)\n",
    "print('Expected Uncertainity : ', pop_std/math.sqrt(1000))\n",
    "samp_dist(50, 1000)\n",
    "samp_dist(100, 1000)\n",
    "samp_dist(300, 1000)"
   ]
  },
  {
   "cell_type": "code",
   "execution_count": 30,
   "id": "b7cb3e9a",
   "metadata": {},
   "outputs": [],
   "source": [
    "pop_ht = np.mean(df.Height)"
   ]
  },
  {
   "cell_type": "code",
   "execution_count": 34,
   "id": "9092398a",
   "metadata": {},
   "outputs": [],
   "source": [
    "def samp_dist1(sample_size, no_of_samples):\n",
    "    wt = []\n",
    "    for i in range(no_of_samples):\n",
    "        sample = df.Height.sample(sample_size)\n",
    "        wt.append(np.mean(sample))\n",
    "    plt.hist(ht) #Sampling Dist of Sample means\n",
    "    plt.show()\n",
    "    print('Avg of all sample means :', np.mean(wt))\n",
    "    print('Uncertainity in the estimate : ', np.std(wt))"
   ]
  },
  {
   "cell_type": "code",
   "execution_count": 35,
   "id": "77030db5",
   "metadata": {},
   "outputs": [
    {
     "name": "stdout",
     "output_type": "stream",
     "text": [
      "Expected Uncertainity :  0.6101647860880103\n",
      "Avg of all sample means : 68.87176536100858\n",
      "Uncertainity in the estimate :  0.3517781456694373\n",
      "Avg of all sample means : 68.8621677806326\n",
      "Uncertainity in the estimate :  0.24497840421956565\n",
      "Avg of all sample means : 68.86357126439994\n",
      "Uncertainity in the estimate :  0.14899662822786186\n"
     ]
    },
    {
     "data": {
      "image/png": "[encoded data removed]",
      "text/plain": [
       "<Figure size 432x288 with 1 Axes>"
      ]
     },
     "metadata": {
      "needs_background": "light"
     },
     "output_type": "display_data"
    }
   ],
   "source": [
    "pop_std = np.std(df.Height)\n",
    "print('Expected Uncertainity : ', pop_std/math.sqrt(1000))\n",
    "samp_dist(50, 1000)\n",
    "samp_dist(100, 1000)\n",
    "samp_dist(200, 1000)"
   ]
  },
  {
   "cell_type": "code",
   "execution_count": null,
   "id": "24c51552",
   "metadata": {},
   "outputs": [],
   "source": []
  }
 ],
 "metadata": {
  "kernelspec": {
   "display_name": "Python 3",
   "language": "python",
   "name": "python3"
  },
  "language_info": {
   "codemirror_mode": {
    "name": "ipython",
    "version": 3
   },
   "file_extension": ".py",
   "mimetype": "text/x-python",
   "name": "python",
   "nbconvert_exporter": "python",
   "pygments_lexer": "ipython3",
   "version": "3.8.8"
  }
 },
 "nbformat": 4,
 "nbformat_minor": 5
}
