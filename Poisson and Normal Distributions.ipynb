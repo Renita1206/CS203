{
 "cells": [
  {
   "cell_type": "markdown",
   "id": "6cd7f2be",
   "metadata": {},
   "source": [
    "## Poisson Distribution"
   ]
  },
  {
   "cell_type": "code",
   "execution_count": 1,
   "id": "96ecdacf",
   "metadata": {},
   "outputs": [],
   "source": [
    "import scipy.stats\n",
    "import numpy as np"
   ]
  },
  {
   "cell_type": "code",
   "execution_count": 2,
   "id": "027a8320",
   "metadata": {},
   "outputs": [],
   "source": [
    "import matplotlib.pyplot as plt"
   ]
  },
  {
   "cell_type": "code",
   "execution_count": 4,
   "id": "ab61c14d",
   "metadata": {},
   "outputs": [
    {
     "data": {
      "image/png": "[encoded data removed]",
      "text/plain": [
       "<Figure size 432x288 with 1 Axes>"
      ]
     },
     "metadata": {
      "needs_background": "light"
     },
     "output_type": "display_data"
    }
   ],
   "source": [
    "p=[]\n",
    "n=100\n",
    "x=np.arange(n+1)\n",
    "for i in range(0,n+1):\n",
    "    ax=scipy.stats.binom.pmf(i,n,0.5)\n",
    "    p.append(ax)\n",
    "plt.bar(x,p,width=4)\n",
    "plt.xlabel(\"No of successes\")\n",
    "plt.ylabel(\"P(x)\")\n",
    "plt.show()"
   ]
  },
  {
   "cell_type": "code",
   "execution_count": 19,
   "id": "bf65b274",
   "metadata": {},
   "outputs": [
    {
     "data": {
      "image/png": "[encoded data removed]",
      "text/plain": [
       "<Figure size 432x288 with 1 Axes>"
      ]
     },
     "metadata": {
      "needs_background": "light"
     },
     "output_type": "display_data"
    },
    {
     "data": {
      "image/png": "[encoded data removed]",
      "text/plain": [
       "<Figure size 432x288 with 1 Axes>"
      ]
     },
     "metadata": {
      "needs_background": "light"
     },
     "output_type": "display_data"
    },
    {
     "data": {
      "image/png": "[encoded data removed]",
      "text/plain": [
       "<Figure size 432x288 with 1 Axes>"
      ]
     },
     "metadata": {
      "needs_background": "light"
     },
     "output_type": "display_data"
    }
   ],
   "source": [
    "import math\n",
    "def poisson(rate):\n",
    "    x=0\n",
    "    pmf=[]\n",
    "    prob = 1\n",
    "    while prob>0.000000000000000000001:\n",
    "        prob = math.exp(-rate) * pow(rate,x) / math.factorial(x)\n",
    "        pmf.append(prob)\n",
    "        x=x+1\n",
    "    n=np.arange(0,x)\n",
    "    plt.bar(n,pmf,width=1)\n",
    "    plt.show()\n",
    "    \n",
    "poisson(0.5)\n",
    "poisson(25)\n",
    "poisson(30)\n",
    "        "
   ]
  },
  {
   "cell_type": "markdown",
   "id": "4e3debd9",
   "metadata": {},
   "source": [
    "## Normal Distribution"
   ]
  },
  {
   "cell_type": "code",
   "execution_count": 20,
   "id": "a1ccfdcf",
   "metadata": {},
   "outputs": [
    {
     "name": "stdout",
     "output_type": "stream",
     "text": [
      "z score: 0.6744897501960817\n"
     ]
    }
   ],
   "source": [
    "from scipy.stats import norm\n",
    "area = 0.75\n",
    "print(\"z score:\", norm.ppf(area))"
   ]
  },
  {
   "cell_type": "code",
   "execution_count": 21,
   "id": "28f53a33",
   "metadata": {},
   "outputs": [
    {
     "name": "stdout",
     "output_type": "stream",
     "text": [
      "Finding P\n",
      "Area to left of x:  0.8092130471474893\n",
      "Area to the right of x:  0.19078695285251068\n"
     ]
    }
   ],
   "source": [
    "mu = 40\n",
    "sigma = 8\n",
    "x = 47 \n",
    "z=(x-mu)/sigma\n",
    "print(\"Finding P\")\n",
    "print(\"Area to left of x: \", norm.cdf(z))\n",
    "print(\"Area to the right of x: \", 1-norm.cdf(z))"
   ]
  },
  {
   "cell_type": "code",
   "execution_count": 23,
   "id": "239d2351",
   "metadata": {},
   "outputs": [
    {
     "name": "stdout",
     "output_type": "stream",
     "text": [
      "Area to left of a:  0.13566606094638267\n",
      "Area to left of b:  0.8643339390536173\n",
      "Area between a and b:  0.7286678781072347\n"
     ]
    }
   ],
   "source": [
    "def prob(a,b):\n",
    "    z1 = (a-mu)/sigma\n",
    "    z2 = (b-mu)/sigma\n",
    "    print(\"Area to left of a: \", norm.cdf(z1))\n",
    "    print(\"Area to left of b: \", norm.cdf(z2))\n",
    "    print(\"Area between a and b: \", norm.cdf(z2)-norm.cdf(z1))\n",
    "    \n",
    "mu=50\n",
    "sigma = 5\n",
    "prob(44.5, 55.5)"
   ]
  },
  {
   "cell_type": "code",
   "execution_count": null,
   "id": "43b58261",
   "metadata": {},
   "outputs": [],
   "source": []
  }
 ],
 "metadata": {
  "kernelspec": {
   "display_name": "Python 3",
   "language": "python",
   "name": "python3"
  },
  "language_info": {
   "codemirror_mode": {
    "name": "ipython",
    "version": 3
   },
   "file_extension": ".py",
   "mimetype": "text/x-python",
   "name": "python",
   "nbconvert_exporter": "python",
   "pygments_lexer": "ipython3",
   "version": "3.8.8"
  }
 },
 "nbformat": 4,
 "nbformat_minor": 5
}
